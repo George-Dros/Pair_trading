{

 "cells": [

  {

   "cell_type": "code",

   "execution_count": 1,

   "id": "2076eac9-409d-469d-95fd-a6fef7e2645d",

   "metadata": {},

   "outputs": [],

   "source": [

    "import numpy as np\n",

    "import pandas as pd\n",

    "import time\n",

    "import yfinance as yf\n",

    "from yahooquery import Screener\n",

    "from yahooquery import Ticker  \n",

    "\n",

    "import statsmodels\n",

    "import statsmodels.api as sm\n",

    "from statsmodels.tsa.stattools import coint, adfuller\n",

    "\n",

    "\n",

    "import matplotlib.pyplot as plt\n",

    "\n",

    "%load_ext autoreload\n",

    "%autoreload 2"

   ]

  },

  {

   "cell_type": "code",

   "execution_count": 2,

   "id": "a0251559-fb6b-4758-a892-6fa61a547c7a",

   "metadata": {},

   "outputs": [],

   "source": [

    "def get_companies():\n",

    "    \n",

    "    url = \"https://en.wikipedia.org/wiki/List_of_S%26P_500_companies\"\n",

    "    table = pd.read_html(url)\n",

    "    sp500_df = table[0]\n",

    "    sp500_symbols = sp500_df['Symbol'].tolist()\n",

    "    tickers = Ticker(sp500_symbols)\n",

    "    profiles = tickers.summary_profile\n",

    "    profiles_df = pd.DataFrame(profiles).T.reset_index()\n",

    "    profiles_df.rename(columns={'index': 'symbol'}, inplace=True)\n",

    "    \n",

    "    return profiles_df    "

   ]

  },

  {

   "cell_type": "code",

   "execution_count": null,

   "id": "937284e3-6b81-4008-96a3-9b7884d8d1cd",

   "metadata": {},

   "outputs": [],

   "source": [

    "all_companies = get_companies()"

   ]

  },

  {

   "cell_type": "code",

   "execution_count": null,

   "id": "e11fd347-53ff-4056-9ed5-feaf92b79efc",

   "metadata": {},

   "outputs": [],

   "source": [

    "all_companies"

   ]

  },

  {

   "cell_type": "code",

   "execution_count": null,

   "id": "644451b9-b5fb-433c-a2da-4e656a4a7432",

   "metadata": {},

   "outputs": [],

   "source": [

    "unique_sectors_list = all_companies['sector'].unique().tolist()"

   ]

  },

  {

   "cell_type": "code",

   "execution_count": null,

   "id": "0705586d-8b9a-4a12-a306-95a9cfc2f587",

   "metadata": {},

   "outputs": [],

   "source": [

    "for sector in unique_sectors_list:\n",

    "    if sector != 'No fundamentals data found for any of the summaryTypes=summaryProfile':\n",

    "        print(sector)"

   ]

  },

  {

   "cell_type": "code",

   "execution_count": null,

   "id": "21cc36e3-0fb7-4673-9d84-bfb9fe133cf9",

   "metadata": {},

   "outputs": [],

   "source": [

    "def filter_companies(companies, sector, marketCap_thresh=2_000_000_000,averageVolume_thresh=5_000_000, start_date=\"2019-11-16\", end_date=\"2023-11-16\"):\n",

    "    \n",

    "    sector_companies = companies[companies['sector'] == sector]\n",

    "    sector_symbols = sector_companies['symbol'].tolist()\n",

    "\n",

    "    filtered_symbols = []\n",

    "    for symbol in sector_symbols:\n",

    "        try:\n",

    "            # Fetch ticker info with error handling\n",

    "            ticker_info = yf.Ticker(symbol).info\n",

    "\n",

    "            # Check if data exists and if marketCap and averageVolume thresholds are met\n",

    "            market_cap = ticker_info.get(\"marketCap\")\n",

    "            average_volume = ticker_info.get(\"averageVolume\")\n",

    "            if market_cap is not None and market_cap > marketCap_thresh and \\\n",

    "                    average_volume is not None and average_volume > averageVolume_thresh:\n",

    "                filtered_symbols.append(symbol)\n",

    "        except Exception as e:\n",

    "            # Print or log error message for the symbol\n",

    "            print(f\"Error fetching data for {symbol}: {e}\")\n",

    "        # Add delay to avoid rate limiting\n",

    "        time.sleep(0.5)\n",

    "\n",

    "    # Initialize an empty DataFrame to store the historical closing prices\n",

    "    filtered_symbols_df = pd.DataFrame()\n",

    "\n",

    "    # Fetch historical data for each filtered symbol\n",

    "    for symbol in filtered_symbols:\n",

    "        try:\n",

    "            ticker = yf.Ticker(symbol)\n",

    "            historical_data = ticker.history(start=start_date, end=end_date)\n",

    "            # Store the 'Close' prices in the DataFrame\n",

    "            filtered_symbols_df[symbol] = historical_data['Close']\n",

    "        except Exception as e:\n",

    "            # Print or log error message for the symbol if historical data cannot be fetched\n",

    "            print(f\"Error fetching historical data for {symbol}: {e}\")\n",

    "        # Add delay to avoid rate limiting\n",

    "        time.sleep(0.5)\n",

    "        \n",

    "    return filtered_symbols_df"

   ]

  },

  {

   "cell_type": "code",

   "execution_count": null,

   "id": "57626c4e-224f-418d-8e1a-de70da2709c7",

   "metadata": {},

   "outputs": [],

   "source": [

    "def find_cointegrated_pairs(combined_df, p_value_threshold=0.02, min_data_points_threshold=100):\n",

    "    \"\"\"\n",

    "    Finds and prints pairs of stock symbols that are cointegrated.\n",

    "    \n",

    "    Parameters:\n",

    "    - combined_df: DataFrame containing historical daily prices with symbols as columns.\n",

    "    - p_value_threshold: The significance level for cointegration (default is 0.02).\n",

    "    - min_data_points_threshold: The minimum number of data points required to test cointegration.\n",

    "    \n",

    "    Returns:\n",

    "    - pairs_sorted: List of tuples containing cointegrated pairs sorted by p-value.\n",

    "    \"\"\"\n",

    "    \n",

    "    symbols = combined_df.columns\n",

    "    n = len(symbols)\n",

    "\n",

    "    pairs = []\n",

    "\n",

    "    # Loop through symbols and perform the cointegration test for each unique pair\n",

    "    for i in range(n):\n",

    "        for j in range(i + 1, n):\n",

    "            symbol_1 = symbols[i]\n",

    "            symbol_2 = symbols[j]\n",

    "\n",

    "            series1 = combined_df[symbol_1]\n",

    "            series2 = combined_df[symbol_2]\n",

    "            \n",

    "            # Combine series and drop NaN values\n",

    "            combined_pair = pd.concat([series1, series2], axis=1).dropna()\n",

    "            data_points = len(combined_pair)\n",

    "\n",

    "            # Debug: Print the length of combined data\n",

    "            print(f\"Testing pair {symbol_1} and {symbol_2}, Number of data points: {data_points}\")\n",

    "\n",

    "            # Check if there are enough data points\n",

    "            if data_points >= min_data_points_threshold:\n",

    "                # Perform the cointegration test\n",

    "                coint_t, p_value, _ = coint(combined_pair.iloc[:, 0], combined_pair.iloc[:, 1])\n",

    "\n",

    "                # Check if the p-value is below the threshold\n",

    "                if p_value < p_value_threshold:\n",

    "                    print(f\"{symbol_1} and {symbol_2} are likely cointegrated (p-value: {p_value:.4f})\")\n",

    "                    pairs.append((symbol_1, symbol_2, p_value))\n",

    "                    # Debug: Confirm pairs being appended correctly\n",

    "                    print(f\"Current pairs in function after appending: {pairs}\")\n",

    "\n",

    "    # Debug: Confirm list of pairs before sorting\n",

    "    print(f\"Pairs before sorting: {pairs}\")\n",

    "\n",

    "    # Sort pairs by p-value\n",

    "    pairs_sorted = sorted(pairs, key=lambda x: x[2])\n",

    "\n",

    "    # Debug: Print final sorted pairs before returning\n",

    "    print(f\"Final sorted pairs in function: {pairs_sorted}\")\n",

    "\n",

    "    return pairs_sorted\n"

   ]

  },

  {

   "cell_type": "code",

   "execution_count": null,

   "id": "5330e73b-5211-446c-bd52-7143906677bf",

   "metadata": {},

   "outputs": [],

   "source": [

    "all_pairs_data = []  # Initialize once before the loop\n",

    "\n",

    "for sector in unique_sectors_list:\n",

    "    if sector != 'No fundamentals data found for any of the summaryTypes=summaryProfile':\n",

    "        filtered_symbols_df = filter_companies(all_companies, sector)\n",

    "        print(f\"Processing sector: {sector}, Number of companies: {len(filtered_symbols_df.columns)}\")\n",

    "\n",

    "        if len(filtered_symbols_df.columns) < 2:\n",

    "            print(f\"Not enough companies in sector {sector} for cointegration testing.\")\n",

    "            continue\n",

    "\n",

    "        # Find cointegrated pairs for the current sector\n",

    "        pairs_data = find_cointegrated_pairs(filtered_symbols_df, p_value_threshold=0.02, min_data_points_threshold=100)\n",

    "\n",

    "        # Debug: Print pairs_data being returned for the current sector\n",

    "        print(f\"Cointegrated pairs for sector {sector}: {pairs_data}\")\n",

    "\n",

    "        # Accumulate the pairs data across all sectors\n",

    "        all_pairs_data.extend(pairs_data)  # Ensure correct accumulation\n",

    "\n",

    "        # Debug: Print the current state of all_pairs_data after each sector\n",

    "        print(f\"Accumulated pairs so far: {all_pairs_data}\")\n",

    "\n",

    "# Final accumulated result\n",

    "print(\"\\nAll Cointegrated Pairs Across Sectors:\")\n",

    "for pair in all_pairs_data:\n",

    "    print(pair)\n"

   ]

  },

  {

   "cell_type": "code",

   "execution_count": null,

   "id": "7838da68-efd3-4dc6-ac05-d2be406aa1dd",

   "metadata": {},

   "outputs": [],

   "source": [

    "sorted_pairs = sorted(all_pairs_data, key=lambda x: x[2])\n",

    "sorted_pairs"

   ]

  },

  {

   "cell_type": "code",

   "execution_count": null,

   "id": "e4d2f5e7-9021-4fa3-8637-17053abcd3f9",

   "metadata": {},

   "outputs": [],

   "source": []

  }

 ],

 "metadata": {

  "kernelspec": {

   "display_name": "Python 3 (ipykernel)",

   "language": "python",

   "name": "python3"

  },

  "language_info": {

   "codemirror_mode": {

    "name": "ipython",

    "version": 3

   },

   "file_extension": ".py",

   "mimetype": "text/x-python",

   "name": "python",

   "nbconvert_exporter": "python",

   "pygments_lexer": "ipython3",

   "version": "3.12.7"

  }

 },

 "nbformat": 4,

 "nbformat_minor": 5

}

