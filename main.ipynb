{

 "cells": [

  {

   "cell_type": "code",

   "execution_count": 1,

   "id": "2076eac9-409d-469d-95fd-a6fef7e2645d",

   "metadata": {},

   "outputs": [],

   "source": [

    "import numpy as np\n",

    "import pandas as pd\n",

    "import time\n",

    "import yfinance as yf\n",

    "from yahooquery import Screener\n",

    "from yahooquery import Ticker  \n",

    "\n",

    "import statsmodels\n",

    "import statsmodels.api as sm\n",

    "from statsmodels.tsa.stattools import coint, adfuller\n",

    "\n",

    "\n",

    "import matplotlib.pyplot as plt\n",

    "\n",

    "%load_ext autoreload\n",

    "%autoreload 2"

   ]

  },

  {

   "cell_type": "code",

   "execution_count": 2,

   "id": "a0251559-fb6b-4758-a892-6fa61a547c7a",

   "metadata": {},

   "outputs": [],

   "source": [

    "def get_companies():\n",

    "    \n",

    "    url = \"https://en.wikipedia.org/wiki/List_of_S%26P_500_companies\"\n",

    "    table = pd.read_html(url)\n",

    "    sp500_df = table[0]\n",

    "    sp500_symbols = sp500_df['Symbol'].tolist()\n",

    "    tickers = Ticker(sp500_symbols)\n",

    "    profiles = tickers.summary_profile\n",

    "    profiles_df = pd.DataFrame(profiles).T.reset_index()\n",

    "    profiles_df.rename(columns={'index': 'symbol'}, inplace=True)\n",

    "    \n",

    "    return profiles_df    "

   ]

  },

  {

   "cell_type": "code",

   "execution_count": 3,

   "id": "937284e3-6b81-4008-96a3-9b7884d8d1cd",

   "metadata": {},

   "outputs": [],

   "source": [

    "all_companies = get_companies()"

   ]

  },

  {

   "cell_type": "code",

   "execution_count": 4,

   "id": "e11fd347-53ff-4056-9ed5-feaf92b79efc",

   "metadata": {},

   "outputs": [

    {

     "data": {

      "text/html": [

       "<div>\n",

       "<style scoped>\n",

       "    .dataframe tbody tr th:only-of-type {\n",

       "        vertical-align: middle;\n",

       "    }\n",

       "\n",

       "    .dataframe tbody tr th {\n",

       "        vertical-align: top;\n",

       "    }\n",

       "\n",

       "    .dataframe thead th {\n",

       "        text-align: right;\n",

       "    }\n",

       "</style>\n",

       "<table border=\"1\" class=\"dataframe\">\n",

       "  <thead>\n",

       "    <tr style=\"text-align: right;\">\n",

       "      <th></th>\n",

       "      <th>symbol</th>\n",

       "      <th>address1</th>\n",

       "      <th>city</th>\n",

       "      <th>state</th>\n",

       "      <th>zip</th>\n",

       "      <th>country</th>\n",

       "      <th>phone</th>\n",

       "      <th>website</th>\n",

       "      <th>industry</th>\n",

       "      <th>industryKey</th>\n",

       "      <th>...</th>\n",

       "      <th>sector</th>\n",

       "      <th>sectorKey</th>\n",

       "      <th>sectorDisp</th>\n",

       "      <th>longBusinessSummary</th>\n",

       "      <th>fullTimeEmployees</th>\n",

       "      <th>companyOfficers</th>\n",

       "      <th>irWebsite</th>\n",

       "      <th>maxAge</th>\n",

       "      <th>address2</th>\n",

       "      <th>fax</th>\n",

       "    </tr>\n",

       "  </thead>\n",

       "  <tbody>\n",

       "    <tr>\n",

       "      <th>0</th>\n",

       "      <td>MMM</td>\n",

       "      <td>3M Center</td>\n",

       "      <td>Saint Paul</td>\n",

       "      <td>MN</td>\n",

       "      <td>55144-1000</td>\n",

       "      <td>United States</td>\n",

       "      <td>651 733 1110</td>\n",

       "      <td>https://www.3m.com</td>\n",

       "      <td>Conglomerates</td>\n",

       "      <td>conglomerates</td>\n",

       "      <td>...</td>\n",

       "      <td>Industrials</td>\n",

       "      <td>industrials</td>\n",

       "      <td>Industrials</td>\n",

       "      <td>3M Company provides diversified technology ser...</td>\n",

       "      <td>85000</td>\n",

       "      <td>[]</td>\n",

       "      <td>http://phx.corporate-ir.net/phoenix.zhtml?c=80...</td>\n",

       "      <td>86400</td>\n",

       "      <td>NaN</td>\n",

       "      <td>NaN</td>\n",

       "    </tr>\n",

       "    <tr>\n",

       "      <th>1</th>\n",

       "      <td>AOS</td>\n",

       "      <td>11270 West Park Place</td>\n",

       "      <td>Milwaukee</td>\n",

       "      <td>WI</td>\n",

       "      <td>53224-9508</td>\n",

       "      <td>United States</td>\n",

       "      <td>414 359 4000</td>\n",

       "      <td>https://www.aosmith.com</td>\n",

       "      <td>Specialty Industrial Machinery</td>\n",

       "      <td>specialty-industrial-machinery</td>\n",

       "      <td>...</td>\n",

       "      <td>Industrials</td>\n",

       "      <td>industrials</td>\n",

       "      <td>Industrials</td>\n",

       "      <td>A. O. Smith Corporation manufactures and marke...</td>\n",

       "      <td>12000</td>\n",

       "      <td>[]</td>\n",

       "      <td>http://investor.shareholder.com/aosmith/</td>\n",

       "      <td>86400</td>\n",

       "      <td>Suite 170 PO Box 245008</td>\n",

       "      <td>NaN</td>\n",

       "    </tr>\n",

       "    <tr>\n",

       "      <th>2</th>\n",

       "      <td>ABT</td>\n",

       "      <td>100 Abbott Park Road</td>\n",

       "      <td>North Chicago</td>\n",

       "      <td>IL</td>\n",

       "      <td>60064-6400</td>\n",

       "      <td>United States</td>\n",

       "      <td>224 667 6100</td>\n",

       "      <td>https://www.abbott.com</td>\n",

       "      <td>Medical Devices</td>\n",

       "      <td>medical-devices</td>\n",

       "      <td>...</td>\n",

       "      <td>Healthcare</td>\n",

       "      <td>healthcare</td>\n",

       "      <td>Healthcare</td>\n",

       "      <td>Abbott Laboratories, together with its subsidi...</td>\n",

       "      <td>114000</td>\n",

       "      <td>[]</td>\n",

       "      <td>http://www.abbottinvestor.com/phoenix.zhtml?c=...</td>\n",

       "      <td>86400</td>\n",

       "      <td>Abbott Park</td>\n",

       "      <td>NaN</td>\n",

       "    </tr>\n",

       "    <tr>\n",

       "      <th>3</th>\n",

       "      <td>ABBV</td>\n",

       "      <td>1 North Waukegan Road</td>\n",

       "      <td>North Chicago</td>\n",

       "      <td>IL</td>\n",

       "      <td>60064-6400</td>\n",

       "      <td>United States</td>\n",

       "      <td>847 932 7900</td>\n",

       "      <td>https://www.abbvie.com</td>\n",

       "      <td>Drug Manufacturers - General</td>\n",

       "      <td>drug-manufacturers-general</td>\n",

       "      <td>...</td>\n",

       "      <td>Healthcare</td>\n",

       "      <td>healthcare</td>\n",

       "      <td>Healthcare</td>\n",

       "      <td>AbbVie Inc. discovers, develops, manufactures,...</td>\n",

       "      <td>50000</td>\n",

       "      <td>[]</td>\n",

       "      <td>NaN</td>\n",

       "      <td>86400</td>\n",

       "      <td>NaN</td>\n",

       "      <td>NaN</td>\n",

       "    </tr>\n",

       "    <tr>\n",

       "      <th>4</th>\n",

       "      <td>ACN</td>\n",

       "      <td>1 Grand Canal Square</td>\n",

       "      <td>Dublin</td>\n",

       "      <td>NaN</td>\n",

       "      <td>D02 P820</td>\n",

       "      <td>Ireland</td>\n",

       "      <td>353 1 646 2000</td>\n",

       "      <td>https://www.accenture.com</td>\n",

       "      <td>Information Technology Services</td>\n",

       "      <td>information-technology-services</td>\n",

       "      <td>...</td>\n",

       "      <td>Technology</td>\n",

       "      <td>technology</td>\n",

       "      <td>Technology</td>\n",

       "      <td>Accenture plc provides strategy and consulting...</td>\n",

       "      <td>774000</td>\n",

       "      <td>[]</td>\n",

       "      <td>http://investor.accenture.com/phoenix.zhtml?c=...</td>\n",

       "      <td>86400</td>\n",

       "      <td>Grand Canal Harbour</td>\n",

       "      <td>353 1 646 2020</td>\n",

       "    </tr>\n",

       "    <tr>\n",

       "      <th>...</th>\n",

       "      <td>...</td>\n",

       "      <td>...</td>\n",

       "      <td>...</td>\n",

       "      <td>...</td>\n",

       "      <td>...</td>\n",

       "      <td>...</td>\n",

       "      <td>...</td>\n",

       "      <td>...</td>\n",

       "      <td>...</td>\n",

       "      <td>...</td>\n",

       "      <td>...</td>\n",

       "      <td>...</td>\n",

       "      <td>...</td>\n",

       "      <td>...</td>\n",

       "      <td>...</td>\n",

       "      <td>...</td>\n",

       "      <td>...</td>\n",

       "      <td>...</td>\n",

       "      <td>...</td>\n",

       "      <td>...</td>\n",

       "      <td>...</td>\n",

       "    </tr>\n",

       "    <tr>\n",

       "      <th>498</th>\n",

       "      <td>XYL</td>\n",

       "      <td>300 Water Street SE</td>\n",

       "      <td>Washington</td>\n",

       "      <td>DC</td>\n",

       "      <td>20003</td>\n",

       "      <td>United States</td>\n",

       "      <td>202 869 9150</td>\n",

       "      <td>https://www.xylem.com</td>\n",

       "      <td>Specialty Industrial Machinery</td>\n",

       "      <td>specialty-industrial-machinery</td>\n",

       "      <td>...</td>\n",

       "      <td>Industrials</td>\n",

       "      <td>industrials</td>\n",

       "      <td>Industrials</td>\n",

       "      <td>Xylem Inc., together with its subsidiaries, en...</td>\n",

       "      <td>23000</td>\n",

       "      <td>[]</td>\n",

       "      <td>NaN</td>\n",

       "      <td>86400</td>\n",

       "      <td>Suite 200</td>\n",

       "      <td>NaN</td>\n",

       "    </tr>\n",

       "    <tr>\n",

       "      <th>499</th>\n",

       "      <td>YUM</td>\n",

       "      <td>1441 Gardiner Lane</td>\n",

       "      <td>Louisville</td>\n",

       "      <td>KY</td>\n",

       "      <td>40213</td>\n",

       "      <td>United States</td>\n",

       "      <td>502 874 8300</td>\n",

       "      <td>https://www.yum.com</td>\n",

       "      <td>Restaurants</td>\n",

       "      <td>restaurants</td>\n",

       "      <td>...</td>\n",

       "      <td>Consumer Cyclical</td>\n",

       "      <td>consumer-cyclical</td>\n",

       "      <td>Consumer Cyclical</td>\n",

       "      <td>Yum! Brands, Inc., together with its subsidiar...</td>\n",

       "      <td>35000</td>\n",

       "      <td>[]</td>\n",

       "      <td>http://www.yum.com/investors/</td>\n",

       "      <td>86400</td>\n",

       "      <td>NaN</td>\n",

       "      <td>NaN</td>\n",

       "    </tr>\n",

       "    <tr>\n",

       "      <th>500</th>\n",

       "      <td>ZBRA</td>\n",

       "      <td>3 Overlook Point</td>\n",

       "      <td>Lincolnshire</td>\n",

       "      <td>IL</td>\n",

       "      <td>60069</td>\n",

       "      <td>United States</td>\n",

       "      <td>847 634 6700</td>\n",

       "      <td>https://www.zebra.com</td>\n",

       "      <td>Communication Equipment</td>\n",

       "      <td>communication-equipment</td>\n",

       "      <td>...</td>\n",

       "      <td>Technology</td>\n",

       "      <td>technology</td>\n",

       "      <td>Technology</td>\n",

       "      <td>Zebra Technologies Corporation, together with ...</td>\n",

       "      <td>9750</td>\n",

       "      <td>[]</td>\n",

       "      <td>http://www.zebra.com/id/zebra/na/en/index/abou...</td>\n",

       "      <td>86400</td>\n",

       "      <td>NaN</td>\n",

       "      <td>NaN</td>\n",

       "    </tr>\n",

       "    <tr>\n",

       "      <th>501</th>\n",

       "      <td>ZBH</td>\n",

       "      <td>345 East Main Street</td>\n",

       "      <td>Warsaw</td>\n",

       "      <td>IN</td>\n",

       "      <td>46580</td>\n",

       "      <td>United States</td>\n",

       "      <td>574 373 3333</td>\n",

       "      <td>https://www.zimmerbiomet.com</td>\n",

       "      <td>Medical Devices</td>\n",

       "      <td>medical-devices</td>\n",

       "      <td>...</td>\n",

       "      <td>Healthcare</td>\n",

       "      <td>healthcare</td>\n",

       "      <td>Healthcare</td>\n",

       "      <td>Zimmer Biomet Holdings, Inc., together with it...</td>\n",

       "      <td>18000</td>\n",

       "      <td>[]</td>\n",

       "      <td>http://investor.zimmer.com/</td>\n",

       "      <td>86400</td>\n",

       "      <td>NaN</td>\n",

       "      <td>NaN</td>\n",

       "    </tr>\n",

       "    <tr>\n",

       "      <th>502</th>\n",

       "      <td>ZTS</td>\n",

       "      <td>10 Sylvan Way</td>\n",

       "      <td>Parsippany</td>\n",

       "      <td>NJ</td>\n",

       "      <td>07054</td>\n",

       "      <td>United States</td>\n",

       "      <td>973 822 7000</td>\n",

       "      <td>https://www.zoetis.com</td>\n",

       "      <td>Drug Manufacturers - Specialty &amp; Generic</td>\n",

       "      <td>drug-manufacturers-specialty-generic</td>\n",

       "      <td>...</td>\n",

       "      <td>Healthcare</td>\n",

       "      <td>healthcare</td>\n",

       "      <td>Healthcare</td>\n",

       "      <td>Zoetis Inc. engages in the discovery, developm...</td>\n",

       "      <td>14100</td>\n",

       "      <td>[]</td>\n",

       "      <td>NaN</td>\n",

       "      <td>86400</td>\n",

       "      <td>NaN</td>\n",

       "      <td>NaN</td>\n",

       "    </tr>\n",

       "  </tbody>\n",

       "</table>\n",

       "<p>503 rows × 21 columns</p>\n",

       "</div>"

      ],

      "text/plain": [

       "    symbol               address1           city state         zip  \\\n",

       "0      MMM              3M Center     Saint Paul    MN  55144-1000   \n",

       "1      AOS  11270 West Park Place      Milwaukee    WI  53224-9508   \n",

       "2      ABT   100 Abbott Park Road  North Chicago    IL  60064-6400   \n",

       "3     ABBV  1 North Waukegan Road  North Chicago    IL  60064-6400   \n",

       "4      ACN   1 Grand Canal Square         Dublin   NaN    D02 P820   \n",

       "..     ...                    ...            ...   ...         ...   \n",

       "498    XYL    300 Water Street SE     Washington    DC       20003   \n",

       "499    YUM     1441 Gardiner Lane     Louisville    KY       40213   \n",

       "500   ZBRA       3 Overlook Point   Lincolnshire    IL       60069   \n",

       "501    ZBH   345 East Main Street         Warsaw    IN       46580   \n",

       "502    ZTS          10 Sylvan Way     Parsippany    NJ       07054   \n",

       "\n",

       "           country           phone                       website  \\\n",

       "0    United States    651 733 1110            https://www.3m.com   \n",

       "1    United States    414 359 4000       https://www.aosmith.com   \n",

       "2    United States    224 667 6100        https://www.abbott.com   \n",

       "3    United States    847 932 7900        https://www.abbvie.com   \n",

       "4          Ireland  353 1 646 2000     https://www.accenture.com   \n",

       "..             ...             ...                           ...   \n",

       "498  United States    202 869 9150         https://www.xylem.com   \n",

       "499  United States    502 874 8300           https://www.yum.com   \n",

       "500  United States    847 634 6700         https://www.zebra.com   \n",

       "501  United States    574 373 3333  https://www.zimmerbiomet.com   \n",

       "502  United States    973 822 7000        https://www.zoetis.com   \n",

       "\n",

       "                                     industry  \\\n",

       "0                               Conglomerates   \n",

       "1              Specialty Industrial Machinery   \n",

       "2                             Medical Devices   \n",

       "3                Drug Manufacturers - General   \n",

       "4             Information Technology Services   \n",

       "..                                        ...   \n",

       "498            Specialty Industrial Machinery   \n",

       "499                               Restaurants   \n",

       "500                   Communication Equipment   \n",

       "501                           Medical Devices   \n",

       "502  Drug Manufacturers - Specialty & Generic   \n",

       "\n",

       "                              industryKey  ...             sector  \\\n",

       "0                           conglomerates  ...        Industrials   \n",

       "1          specialty-industrial-machinery  ...        Industrials   \n",

       "2                         medical-devices  ...         Healthcare   \n",

       "3              drug-manufacturers-general  ...         Healthcare   \n",

       "4         information-technology-services  ...         Technology   \n",

       "..                                    ...  ...                ...   \n",

       "498        specialty-industrial-machinery  ...        Industrials   \n",

       "499                           restaurants  ...  Consumer Cyclical   \n",

       "500               communication-equipment  ...         Technology   \n",

       "501                       medical-devices  ...         Healthcare   \n",

       "502  drug-manufacturers-specialty-generic  ...         Healthcare   \n",

       "\n",

       "             sectorKey         sectorDisp  \\\n",

       "0          industrials        Industrials   \n",

       "1          industrials        Industrials   \n",

       "2           healthcare         Healthcare   \n",

       "3           healthcare         Healthcare   \n",

       "4           technology         Technology   \n",

       "..                 ...                ...   \n",

       "498        industrials        Industrials   \n",

       "499  consumer-cyclical  Consumer Cyclical   \n",

       "500         technology         Technology   \n",

       "501         healthcare         Healthcare   \n",

       "502         healthcare         Healthcare   \n",

       "\n",

       "                                   longBusinessSummary fullTimeEmployees  \\\n",

       "0    3M Company provides diversified technology ser...             85000   \n",

       "1    A. O. Smith Corporation manufactures and marke...             12000   \n",

       "2    Abbott Laboratories, together with its subsidi...            114000   \n",

       "3    AbbVie Inc. discovers, develops, manufactures,...             50000   \n",

       "4    Accenture plc provides strategy and consulting...            774000   \n",

       "..                                                 ...               ...   \n",

       "498  Xylem Inc., together with its subsidiaries, en...             23000   \n",

       "499  Yum! Brands, Inc., together with its subsidiar...             35000   \n",

       "500  Zebra Technologies Corporation, together with ...              9750   \n",

       "501  Zimmer Biomet Holdings, Inc., together with it...             18000   \n",

       "502  Zoetis Inc. engages in the discovery, developm...             14100   \n",

       "\n",

       "    companyOfficers                                          irWebsite maxAge  \\\n",

       "0                []  http://phx.corporate-ir.net/phoenix.zhtml?c=80...  86400   \n",

       "1                []           http://investor.shareholder.com/aosmith/  86400   \n",

       "2                []  http://www.abbottinvestor.com/phoenix.zhtml?c=...  86400   \n",

       "3                []                                                NaN  86400   \n",

       "4                []  http://investor.accenture.com/phoenix.zhtml?c=...  86400   \n",

       "..              ...                                                ...    ...   \n",

       "498              []                                                NaN  86400   \n",

       "499              []                      http://www.yum.com/investors/  86400   \n",

       "500              []  http://www.zebra.com/id/zebra/na/en/index/abou...  86400   \n",

       "501              []                        http://investor.zimmer.com/  86400   \n",

       "502              []                                                NaN  86400   \n",

       "\n",

       "                    address2             fax  \n",

       "0                        NaN             NaN  \n",

       "1    Suite 170 PO Box 245008             NaN  \n",

       "2                Abbott Park             NaN  \n",

       "3                        NaN             NaN  \n",

       "4        Grand Canal Harbour  353 1 646 2020  \n",

       "..                       ...             ...  \n",

       "498                Suite 200             NaN  \n",

       "499                      NaN             NaN  \n",

       "500                      NaN             NaN  \n",

       "501                      NaN             NaN  \n",

       "502                      NaN             NaN  \n",

       "\n",

       "[503 rows x 21 columns]"

      ]

     },

     "execution_count": 4,

     "metadata": {},

     "output_type": "execute_result"

    }

   ],

   "source": [

    "all_companies"

   ]

  },

  {

   "cell_type": "code",

   "execution_count": 5,

   "id": "644451b9-b5fb-433c-a2da-4e656a4a7432",

   "metadata": {},

   "outputs": [],

   "source": [

    "unique_sectors_list = all_companies['sector'].unique().tolist()"

   ]

  },

  {

   "cell_type": "code",

   "execution_count": 6,

   "id": "0705586d-8b9a-4a12-a306-95a9cfc2f587",

   "metadata": {},

   "outputs": [

    {

     "name": "stdout",

     "output_type": "stream",

     "text": [

      "Industrials\n",

      "Healthcare\n",

      "Technology\n",

      "Utilities\n",

      "Financial Services\n",

      "Basic Materials\n",

      "Consumer Cyclical\n",

      "Real Estate\n",

      "Communication Services\n",

      "Consumer Defensive\n",

      "Energy\n"

     ]

    }

   ],

   "source": [

    "for sector in unique_sectors_list:\n",

    "    if sector != 'No fundamentals data found for any of the summaryTypes=summaryProfile':\n",

    "        print(sector)"

   ]

  },

  {

   "cell_type": "code",

   "execution_count": 34,

   "id": "21cc36e3-0fb7-4673-9d84-bfb9fe133cf9",

   "metadata": {},

   "outputs": [],

   "source": [

    "def filter_companies(companies, sector, marketCap_thresh=2_000_000_000,averageVolume_thresh=5_000_000, start_date=\"2018-11-16\", end_date=\"2022-11-16\"):\n",

    "    \n",

    "    sector_companies = companies[companies['sector'] == sector]\n",

    "    sector_symbols = sector_companies['symbol'].tolist()\n",

    "\n",

    "    filtered_symbols = []\n",

    "    for symbol in sector_symbols:\n",

    "        try:\n",

    "            # Fetch ticker info with error handling\n",

    "            ticker_info = yf.Ticker(symbol).info\n",

    "\n",

    "            # Check if data exists and if marketCap and averageVolume thresholds are met\n",

    "            market_cap = ticker_info.get(\"marketCap\")\n",

    "            average_volume = ticker_info.get(\"averageVolume\")\n",

    "            if market_cap is not None and market_cap > marketCap_thresh and \\\n",

    "                    average_volume is not None and average_volume > averageVolume_thresh:\n",

    "                filtered_symbols.append(symbol)\n",

    "        except Exception as e:\n",

    "            # Print or log error message for the symbol\n",

    "            print(f\"Error fetching data for {symbol}: {e}\")\n",

    "        # Add delay to avoid rate limiting\n",

    "        time.sleep(0.5)\n",

    "\n",

    "    # Initialize an empty DataFrame to store the historical closing prices\n",

    "    filtered_symbols_df = pd.DataFrame()\n",

    "\n",

    "    # Fetch historical data for each filtered symbol\n",

    "    for symbol in filtered_symbols:\n",

    "        try:\n",

    "            ticker = yf.Ticker(symbol)\n",

    "            historical_data = ticker.history(start=start_date, end=end_date)\n",

    "            # Store the 'Close' prices in the DataFrame\n",

    "            filtered_symbols_df[symbol] = historical_data['Close']\n",

    "        except Exception as e:\n",

    "            # Print or log error message for the symbol if historical data cannot be fetched\n",

    "            print(f\"Error fetching historical data for {symbol}: {e}\")\n",

    "        # Add delay to avoid rate limiting\n",

    "        time.sleep(0.05)\n",

    "        \n",

    "    return filtered_symbols_df"

   ]

  },

  {

   "cell_type": "code",

   "execution_count": 17,

   "id": "57626c4e-224f-418d-8e1a-de70da2709c7",

   "metadata": {},

   "outputs": [],

   "source": [

    "def find_cointegrated_pairs(combined_df, p_value_threshold=0.07, min_data_points_threshold=100):\n",

    "    \"\"\"\n",

    "    Finds and prints pairs of stock symbols that are cointegrated.\n",

    "    \n",

    "    Parameters:\n",

    "    - combined_df: DataFrame containing historical daily prices with symbols as columns.\n",

    "    - p_value_threshold: The significance level for cointegration (default is 0.02).\n",

    "    - min_data_points_threshold: The minimum number of data points required to test cointegration.\n",

    "    \n",

    "    Returns:\n",

    "    - pairs_sorted: List of tuples containing cointegrated pairs sorted by p-value.\n",

    "    \"\"\"\n",

    "    \n",

    "    symbols = combined_df.columns\n",

    "    n = len(symbols)\n",

    "\n",

    "    pairs = []\n",

    "\n",

    "    # Loop through symbols and perform the cointegration test for each unique pair\n",

    "    for i in range(n):\n",

    "        for j in range(i + 1, n):\n",

    "            symbol_1 = symbols[i]\n",

    "            symbol_2 = symbols[j]\n",

    "\n",

    "            series1 = combined_df[symbol_1]\n",

    "            series2 = combined_df[symbol_2]\n",

    "            \n",

    "            # Combine series and drop NaN values\n",

    "            combined_pair = pd.concat([series1, series2], axis=1).dropna()\n",

    "            data_points = len(combined_pair)\n",

    "\n",

    "            # Debug: Print the length of combined data\n",

    "            print(f\"Testing pair {symbol_1} and {symbol_2}, Number of data points: {data_points}\")\n",

    "\n",

    "            # Check if there are enough data points\n",

    "            if data_points >= min_data_points_threshold:\n",

    "                # Perform the cointegration test\n",

    "                coint_t, p_value, _ = coint(combined_pair.iloc[:, 0], combined_pair.iloc[:, 1])\n",

    "\n",

    "                # Check if the p-value is below the threshold\n",

    "                if p_value < p_value_threshold:\n",

    "                    print(f\"{symbol_1} and {symbol_2} are likely cointegrated (p-value: {p_value:.4f})\")\n",

    "                    pairs.append((symbol_1, symbol_2, p_value))\n",

    "                    # Debug: Confirm pairs being appended correctly\n",

    "                    print(f\"Current pairs in function after appending: {pairs}\")\n",

    "\n",

    "    # Debug: Confirm list of pairs before sorting\n",

    "    print(f\"Pairs before sorting: {pairs}\")\n",

    "\n",

    "    # Sort pairs by p-value\n",

    "    pairs_sorted = sorted(pairs, key=lambda x: x[2])\n",

    "\n",

    "    # Debug: Print final sorted pairs before returning\n",

    "    print(f\"Final sorted pairs in function: {pairs_sorted}\")\n",

    "\n",

    "    return pairs_sorted\n"

   ]

  },

  {

   "cell_type": "code",

   "execution_count": 19,

   "id": "5330e73b-5211-446c-bd52-7143906677bf",

   "metadata": {},

   "outputs": [

    {

     "name": "stdout",

     "output_type": "stream",

     "text": [

      "Processing sector: Industrials, Number of companies: 6\n",

      "Testing pair BA and CSX, Number of data points: 1006\n",

      "Testing pair BA and DAL, Number of data points: 1006\n",

      "Testing pair BA and RTX, Number of data points: 1006\n",

      "Testing pair BA and LUV, Number of data points: 1006\n",

      "Testing pair BA and UAL, Number of data points: 1006\n",

      "BA and UAL are likely cointegrated (p-value: 0.0123)\n",

      "Current pairs in function after appending: [('BA', 'UAL', 0.012332123370913132)]\n",

      "Testing pair CSX and DAL, Number of data points: 1006\n",

      "Testing pair CSX and RTX, Number of data points: 1006\n",

      "Testing pair CSX and LUV, Number of data points: 1006\n",

      "Testing pair CSX and UAL, Number of data points: 1006\n",

      "Testing pair DAL and RTX, Number of data points: 1006\n",

      "Testing pair DAL and LUV, Number of data points: 1006\n",

      "Testing pair DAL and UAL, Number of data points: 1006\n",

      "Testing pair RTX and LUV, Number of data points: 1006\n",

      "Testing pair RTX and UAL, Number of data points: 1006\n",

      "Testing pair LUV and UAL, Number of data points: 1006\n",

      "Pairs before sorting: [('BA', 'UAL', 0.012332123370913132)]\n",

      "Final sorted pairs in function: [('BA', 'UAL', 0.012332123370913132)]\n",

      "Cointegrated pairs for sector Industrials: [('BA', 'UAL', 0.012332123370913132)]\n",

      "Accumulated pairs so far: [('BA', 'UAL', 0.012332123370913132)]\n",

      "Processing sector: Healthcare, Number of companies: 14\n",

      "Testing pair ABBV and BSX, Number of data points: 1006\n",

      "Testing pair ABBV and BMY, Number of data points: 1006\n",

      "Testing pair ABBV and CNC, Number of data points: 1006\n",

      "ABBV and CNC are likely cointegrated (p-value: 0.0076)\n",

      "Current pairs in function after appending: [('ABBV', 'CNC', 0.007582183936547386)]\n",

      "Testing pair ABBV and CVS, Number of data points: 1006\n",

      "Testing pair ABBV and EW, Number of data points: 1006\n",

      "Testing pair ABBV and GILD, Number of data points: 1006\n",

      "Testing pair ABBV and JNJ, Number of data points: 1006\n",

      "Testing pair ABBV and MDT, Number of data points: 1006\n",

      "Testing pair ABBV and MRK, Number of data points: 1006\n",

      "Testing pair ABBV and MRNA, Number of data points: 993\n",

      "Testing pair ABBV and PFE, Number of data points: 1006\n",

      "Testing pair ABBV and VTRS, Number of data points: 1006\n",

      "Testing pair ABBV and WBA, Number of data points: 1006\n",

      "Testing pair BSX and BMY, Number of data points: 1006\n",

      "Testing pair BSX and CNC, Number of data points: 1006\n",

      "Testing pair BSX and CVS, Number of data points: 1006\n",

      "Testing pair BSX and EW, Number of data points: 1006\n",

      "Testing pair BSX and GILD, Number of data points: 1006\n",

      "Testing pair BSX and JNJ, Number of data points: 1006\n",

      "Testing pair BSX and MDT, Number of data points: 1006\n",

      "Testing pair BSX and MRK, Number of data points: 1006\n",

      "Testing pair BSX and MRNA, Number of data points: 993\n",

      "Testing pair BSX and PFE, Number of data points: 1006\n",

      "Testing pair BSX and VTRS, Number of data points: 1006\n",

      "Testing pair BSX and WBA, Number of data points: 1006\n",

      "Testing pair BMY and CNC, Number of data points: 1006\n",

      "Testing pair BMY and CVS, Number of data points: 1006\n",

      "Testing pair BMY and EW, Number of data points: 1006\n",

      "Testing pair BMY and GILD, Number of data points: 1006\n",

      "Testing pair BMY and JNJ, Number of data points: 1006\n",

      "Testing pair BMY and MDT, Number of data points: 1006\n",

      "Testing pair BMY and MRK, Number of data points: 1006\n",

      "Testing pair BMY and MRNA, Number of data points: 993\n",

      "Testing pair BMY and PFE, Number of data points: 1006\n",

      "Testing pair BMY and VTRS, Number of data points: 1006\n",

      "Testing pair BMY and WBA, Number of data points: 1006\n",

      "Testing pair CNC and CVS, Number of data points: 1006\n",

      "CNC and CVS are likely cointegrated (p-value: 0.0118)\n",

      "Current pairs in function after appending: [('ABBV', 'CNC', 0.007582183936547386), ('CNC', 'CVS', 0.01175631565637868)]\n",

      "Testing pair CNC and EW, Number of data points: 1006\n",

      "Testing pair CNC and GILD, Number of data points: 1006\n",

      "Testing pair CNC and JNJ, Number of data points: 1006\n",

      "Testing pair CNC and MDT, Number of data points: 1006\n",

      "Testing pair CNC and MRK, Number of data points: 1006\n",

      "Testing pair CNC and MRNA, Number of data points: 993\n",

      "Testing pair CNC and PFE, Number of data points: 1006\n",

      "Testing pair CNC and VTRS, Number of data points: 1006\n",

      "Testing pair CNC and WBA, Number of data points: 1006\n",

      "Testing pair CVS and EW, Number of data points: 1006\n",

      "Testing pair CVS and GILD, Number of data points: 1006\n",

      "Testing pair CVS and JNJ, Number of data points: 1006\n",

      "Testing pair CVS and MDT, Number of data points: 1006\n",

      "Testing pair CVS and MRK, Number of data points: 1006\n",

      "Testing pair CVS and MRNA, Number of data points: 993\n",

      "Testing pair CVS and PFE, Number of data points: 1006\n",

      "Testing pair CVS and VTRS, Number of data points: 1006\n",

      "Testing pair CVS and WBA, Number of data points: 1006\n",

      "Testing pair EW and GILD, Number of data points: 1006\n",

      "Testing pair EW and JNJ, Number of data points: 1006\n",

      "Testing pair EW and MDT, Number of data points: 1006\n",

      "Testing pair EW and MRK, Number of data points: 1006\n",

      "Testing pair EW and MRNA, Number of data points: 993\n",

      "Testing pair EW and PFE, Number of data points: 1006\n",

      "Testing pair EW and VTRS, Number of data points: 1006\n",

      "Testing pair EW and WBA, Number of data points: 1006\n",

      "Testing pair GILD and JNJ, Number of data points: 1006\n",

      "Testing pair GILD and MDT, Number of data points: 1006\n",

      "Testing pair GILD and MRK, Number of data points: 1006\n",

      "Testing pair GILD and MRNA, Number of data points: 993\n",

      "Testing pair GILD and PFE, Number of data points: 1006\n",

      "Testing pair GILD and VTRS, Number of data points: 1006\n",

      "Testing pair GILD and WBA, Number of data points: 1006\n",

      "Testing pair JNJ and MDT, Number of data points: 1006\n",

      "Testing pair JNJ and MRK, Number of data points: 1006\n",

      "Testing pair JNJ and MRNA, Number of data points: 993\n",

      "Testing pair JNJ and PFE, Number of data points: 1006\n",

      "Testing pair JNJ and VTRS, Number of data points: 1006\n",

      "JNJ and VTRS are likely cointegrated (p-value: 0.0161)\n",

      "Current pairs in function after appending: [('ABBV', 'CNC', 0.007582183936547386), ('CNC', 'CVS', 0.01175631565637868), ('JNJ', 'VTRS', 0.016116965094842797)]\n",

      "Testing pair JNJ and WBA, Number of data points: 1006\n",

      "Testing pair MDT and MRK, Number of data points: 1006\n",

      "Testing pair MDT and MRNA, Number of data points: 993\n",

      "Testing pair MDT and PFE, Number of data points: 1006\n",

      "Testing pair MDT and VTRS, Number of data points: 1006\n",

      "Testing pair MDT and WBA, Number of data points: 1006\n",

      "Testing pair MRK and MRNA, Number of data points: 993\n",

      "Testing pair MRK and PFE, Number of data points: 1006\n",

      "Testing pair MRK and VTRS, Number of data points: 1006\n",

      "Testing pair MRK and WBA, Number of data points: 1006\n",

      "Testing pair MRNA and PFE, Number of data points: 993\n",

      "Testing pair MRNA and VTRS, Number of data points: 993\n",

      "Testing pair MRNA and WBA, Number of data points: 993\n",

      "Testing pair PFE and VTRS, Number of data points: 1006\n",

      "Testing pair PFE and WBA, Number of data points: 1006\n",

      "Testing pair VTRS and WBA, Number of data points: 1006\n",

      "Pairs before sorting: [('ABBV', 'CNC', 0.007582183936547386), ('CNC', 'CVS', 0.01175631565637868), ('JNJ', 'VTRS', 0.016116965094842797)]\n",

      "Final sorted pairs in function: [('ABBV', 'CNC', 0.007582183936547386), ('CNC', 'CVS', 0.01175631565637868), ('JNJ', 'VTRS', 0.016116965094842797)]\n",

      "Cointegrated pairs for sector Healthcare: [('ABBV', 'CNC', 0.007582183936547386), ('CNC', 'CVS', 0.01175631565637868), ('JNJ', 'VTRS', 0.016116965094842797)]\n",

      "Accumulated pairs so far: [('BA', 'UAL', 0.012332123370913132), ('ABBV', 'CNC', 0.007582183936547386), ('CNC', 'CVS', 0.01175631565637868), ('JNJ', 'VTRS', 0.016116965094842797)]\n",

      "Processing sector: Technology, Number of companies: 23\n",

      "Testing pair AMD and APH, Number of data points: 1006\n",

      "Testing pair AMD and AAPL, Number of data points: 1006\n",

      "Testing pair AMD and AMAT, Number of data points: 1006\n",

      "Testing pair AMD and AVGO, Number of data points: 1006\n",

      "Testing pair AMD and CSCO, Number of data points: 1006\n",

      "Testing pair AMD and DELL, Number of data points: 1006\n",

      "Testing pair AMD and HPE, Number of data points: 1006\n",

      "Testing pair AMD and HPQ, Number of data points: 1006\n",

      "Testing pair AMD and INTC, Number of data points: 1006\n",

      "Testing pair AMD and LRCX, Number of data points: 1006\n",

      "Testing pair AMD and MCHP, Number of data points: 1006\n",

      "Testing pair AMD and MU, Number of data points: 1006\n",

      "Testing pair AMD and MSFT, Number of data points: 1006\n",

      "Testing pair AMD and NVDA, Number of data points: 1006\n",

      "Testing pair AMD and ON, Number of data points: 1006\n",

      "Testing pair AMD and ORCL, Number of data points: 1006\n",

      "Testing pair AMD and PLTR, Number of data points: 537\n",

      "Testing pair AMD and QCOM, Number of data points: 1006\n",

      "Testing pair AMD and CRM, Number of data points: 1006\n",

      "Testing pair AMD and SMCI, Number of data points: 1006\n",

      "Testing pair AMD and TXN, Number of data points: 1006\n",

      "Testing pair AMD and UBER, Number of data points: 888\n",

      "Testing pair APH and AAPL, Number of data points: 1006\n",

      "Testing pair APH and AMAT, Number of data points: 1006\n",

      "Testing pair APH and AVGO, Number of data points: 1006\n",

      "Testing pair APH and CSCO, Number of data points: 1006\n",

      "Testing pair APH and DELL, Number of data points: 1006\n",

      "Testing pair APH and HPE, Number of data points: 1006\n",

      "Testing pair APH and HPQ, Number of data points: 1006\n",

      "Testing pair APH and INTC, Number of data points: 1006\n",

      "Testing pair APH and LRCX, Number of data points: 1006\n",

      "Testing pair APH and MCHP, Number of data points: 1006\n",

      "Testing pair APH and MU, Number of data points: 1006\n",

      "Testing pair APH and MSFT, Number of data points: 1006\n",

      "Testing pair APH and NVDA, Number of data points: 1006\n",

      "Testing pair APH and ON, Number of data points: 1006\n",

      "Testing pair APH and ORCL, Number of data points: 1006\n",

      "Testing pair APH and PLTR, Number of data points: 537\n",

      "Testing pair APH and QCOM, Number of data points: 1006\n",

      "Testing pair APH and CRM, Number of data points: 1006\n",

      "Testing pair APH and SMCI, Number of data points: 1006\n",

      "Testing pair APH and TXN, Number of data points: 1006\n",

      "Testing pair APH and UBER, Number of data points: 888\n",

      "Testing pair AAPL and AMAT, Number of data points: 1006\n",

      "Testing pair AAPL and AVGO, Number of data points: 1006\n",

      "Testing pair AAPL and CSCO, Number of data points: 1006\n",

      "Testing pair AAPL and DELL, Number of data points: 1006\n",

      "Testing pair AAPL and HPE, Number of data points: 1006\n",

      "Testing pair AAPL and HPQ, Number of data points: 1006\n",

      "Testing pair AAPL and INTC, Number of data points: 1006\n",

      "Testing pair AAPL and LRCX, Number of data points: 1006\n",

      "Testing pair AAPL and MCHP, Number of data points: 1006\n",

      "Testing pair AAPL and MU, Number of data points: 1006\n",

      "Testing pair AAPL and MSFT, Number of data points: 1006\n",

      "Testing pair AAPL and NVDA, Number of data points: 1006\n",

      "Testing pair AAPL and ON, Number of data points: 1006\n",

      "Testing pair AAPL and ORCL, Number of data points: 1006\n",

      "Testing pair AAPL and PLTR, Number of data points: 537\n",

      "Testing pair AAPL and QCOM, Number of data points: 1006\n",

      "Testing pair AAPL and CRM, Number of data points: 1006\n",

      "Testing pair AAPL and SMCI, Number of data points: 1006\n",

      "Testing pair AAPL and TXN, Number of data points: 1006\n",

      "Testing pair AAPL and UBER, Number of data points: 888\n",

      "Testing pair AMAT and AVGO, Number of data points: 1006\n",

      "Testing pair AMAT and CSCO, Number of data points: 1006\n",

      "Testing pair AMAT and DELL, Number of data points: 1006\n",

      "Testing pair AMAT and HPE, Number of data points: 1006\n",

      "Testing pair AMAT and HPQ, Number of data points: 1006\n",

      "Testing pair AMAT and INTC, Number of data points: 1006\n",

      "Testing pair AMAT and LRCX, Number of data points: 1006\n",

      "Testing pair AMAT and MCHP, Number of data points: 1006\n",

      "Testing pair AMAT and MU, Number of data points: 1006\n",

      "Testing pair AMAT and MSFT, Number of data points: 1006\n",

      "Testing pair AMAT and NVDA, Number of data points: 1006\n",

      "Testing pair AMAT and ON, Number of data points: 1006\n",

      "Testing pair AMAT and ORCL, Number of data points: 1006\n",

      "AMAT and ORCL are likely cointegrated (p-value: 0.0111)\n",

      "Current pairs in function after appending: [('AMAT', 'ORCL', 0.011063138830888717)]\n",

      "Testing pair AMAT and PLTR, Number of data points: 537\n",

      "Testing pair AMAT and QCOM, Number of data points: 1006\n",

      "Testing pair AMAT and CRM, Number of data points: 1006\n",

      "Testing pair AMAT and SMCI, Number of data points: 1006\n",

      "Testing pair AMAT and TXN, Number of data points: 1006\n",

      "Testing pair AMAT and UBER, Number of data points: 888\n",

      "Testing pair AVGO and CSCO, Number of data points: 1006\n",

      "Testing pair AVGO and DELL, Number of data points: 1006\n",

      "Testing pair AVGO and HPE, Number of data points: 1006\n",

      "Testing pair AVGO and HPQ, Number of data points: 1006\n",

      "AVGO and HPQ are likely cointegrated (p-value: 0.0119)\n",

      "Current pairs in function after appending: [('AMAT', 'ORCL', 0.011063138830888717), ('AVGO', 'HPQ', 0.011923914144777725)]\n",

      "Testing pair AVGO and INTC, Number of data points: 1006\n",

      "Testing pair AVGO and LRCX, Number of data points: 1006\n",

      "Testing pair AVGO and MCHP, Number of data points: 1006\n",

      "Testing pair AVGO and MU, Number of data points: 1006\n",

      "Testing pair AVGO and MSFT, Number of data points: 1006\n",

      "Testing pair AVGO and NVDA, Number of data points: 1006\n",

      "Testing pair AVGO and ON, Number of data points: 1006\n",

      "Testing pair AVGO and ORCL, Number of data points: 1006\n",

      "Testing pair AVGO and PLTR, Number of data points: 537\n",

      "Testing pair AVGO and QCOM, Number of data points: 1006\n",

      "Testing pair AVGO and CRM, Number of data points: 1006\n",

      "Testing pair AVGO and SMCI, Number of data points: 1006\n",

      "Testing pair AVGO and TXN, Number of data points: 1006\n",

      "Testing pair AVGO and UBER, Number of data points: 888\n",

      "Testing pair CSCO and DELL, Number of data points: 1006\n",

      "Testing pair CSCO and HPE, Number of data points: 1006\n",

      "Testing pair CSCO and HPQ, Number of data points: 1006\n",

      "Testing pair CSCO and INTC, Number of data points: 1006\n",

      "Testing pair CSCO and LRCX, Number of data points: 1006\n",

      "Testing pair CSCO and MCHP, Number of data points: 1006\n",

      "Testing pair CSCO and MU, Number of data points: 1006\n",

      "Testing pair CSCO and MSFT, Number of data points: 1006\n",

      "Testing pair CSCO and NVDA, Number of data points: 1006\n",

      "Testing pair CSCO and ON, Number of data points: 1006\n",

      "Testing pair CSCO and ORCL, Number of data points: 1006\n",

      "Testing pair CSCO and PLTR, Number of data points: 537\n",

      "Testing pair CSCO and QCOM, Number of data points: 1006\n",

      "Testing pair CSCO and CRM, Number of data points: 1006\n",

      "Testing pair CSCO and SMCI, Number of data points: 1006\n",

      "Testing pair CSCO and TXN, Number of data points: 1006\n",

      "Testing pair CSCO and UBER, Number of data points: 888\n",

      "Testing pair DELL and HPE, Number of data points: 1006\n",

      "Testing pair DELL and HPQ, Number of data points: 1006\n",

      "Testing pair DELL and INTC, Number of data points: 1006\n",

      "Testing pair DELL and LRCX, Number of data points: 1006\n",

      "Testing pair DELL and MCHP, Number of data points: 1006\n",

      "Testing pair DELL and MU, Number of data points: 1006\n",

      "Testing pair DELL and MSFT, Number of data points: 1006\n",

      "Testing pair DELL and NVDA, Number of data points: 1006\n",

      "Testing pair DELL and ON, Number of data points: 1006\n",

      "Testing pair DELL and ORCL, Number of data points: 1006\n",

      "Testing pair DELL and PLTR, Number of data points: 537\n",

      "Testing pair DELL and QCOM, Number of data points: 1006\n",

      "Testing pair DELL and CRM, Number of data points: 1006\n",

      "Testing pair DELL and SMCI, Number of data points: 1006\n",

      "Testing pair DELL and TXN, Number of data points: 1006\n",

      "Testing pair DELL and UBER, Number of data points: 888\n",

      "Testing pair HPE and HPQ, Number of data points: 1006\n",

      "Testing pair HPE and INTC, Number of data points: 1006\n",

      "Testing pair HPE and LRCX, Number of data points: 1006\n",

      "Testing pair HPE and MCHP, Number of data points: 1006\n",

      "Testing pair HPE and MU, Number of data points: 1006\n",

      "Testing pair HPE and MSFT, Number of data points: 1006\n",

      "Testing pair HPE and NVDA, Number of data points: 1006\n",

      "Testing pair HPE and ON, Number of data points: 1006\n",

      "Testing pair HPE and ORCL, Number of data points: 1006\n",

      "Testing pair HPE and PLTR, Number of data points: 537\n",

      "Testing pair HPE and QCOM, Number of data points: 1006\n",

      "Testing pair HPE and CRM, Number of data points: 1006\n",

      "Testing pair HPE and SMCI, Number of data points: 1006\n",

      "Testing pair HPE and TXN, Number of data points: 1006\n",

      "Testing pair HPE and UBER, Number of data points: 888\n",

      "Testing pair HPQ and INTC, Number of data points: 1006\n",

      "Testing pair HPQ and LRCX, Number of data points: 1006\n",

      "Testing pair HPQ and MCHP, Number of data points: 1006\n",

      "Testing pair HPQ and MU, Number of data points: 1006\n",

      "Testing pair HPQ and MSFT, Number of data points: 1006\n",

      "Testing pair HPQ and NVDA, Number of data points: 1006\n",

      "Testing pair HPQ and ON, Number of data points: 1006\n",

      "Testing pair HPQ and ORCL, Number of data points: 1006\n",

      "Testing pair HPQ and PLTR, Number of data points: 537\n",

      "Testing pair HPQ and QCOM, Number of data points: 1006\n",

      "Testing pair HPQ and CRM, Number of data points: 1006\n",

      "Testing pair HPQ and SMCI, Number of data points: 1006\n",

      "Testing pair HPQ and TXN, Number of data points: 1006\n",

      "Testing pair HPQ and UBER, Number of data points: 888\n",

      "Testing pair INTC and LRCX, Number of data points: 1006\n",

      "Testing pair INTC and MCHP, Number of data points: 1006\n",

      "Testing pair INTC and MU, Number of data points: 1006\n",

      "Testing pair INTC and MSFT, Number of data points: 1006\n",

      "Testing pair INTC and NVDA, Number of data points: 1006\n",

      "Testing pair INTC and ON, Number of data points: 1006\n",

      "Testing pair INTC and ORCL, Number of data points: 1006\n",

      "Testing pair INTC and PLTR, Number of data points: 537\n",

      "Testing pair INTC and QCOM, Number of data points: 1006\n",

      "Testing pair INTC and CRM, Number of data points: 1006\n",

      "Testing pair INTC and SMCI, Number of data points: 1006\n",

      "Testing pair INTC and TXN, Number of data points: 1006\n",

      "Testing pair INTC and UBER, Number of data points: 888\n",

      "Testing pair LRCX and MCHP, Number of data points: 1006\n",

      "LRCX and MCHP are likely cointegrated (p-value: 0.0101)\n",

      "Current pairs in function after appending: [('AMAT', 'ORCL', 0.011063138830888717), ('AVGO', 'HPQ', 0.011923914144777725), ('LRCX', 'MCHP', 0.0101236952996349)]\n",

      "Testing pair LRCX and MU, Number of data points: 1006\n",

      "Testing pair LRCX and MSFT, Number of data points: 1006\n",

      "Testing pair LRCX and NVDA, Number of data points: 1006\n",

      "Testing pair LRCX and ON, Number of data points: 1006\n",

      "Testing pair LRCX and ORCL, Number of data points: 1006\n",

      "Testing pair LRCX and PLTR, Number of data points: 537\n",

      "Testing pair LRCX and QCOM, Number of data points: 1006\n",

      "Testing pair LRCX and CRM, Number of data points: 1006\n",

      "Testing pair LRCX and SMCI, Number of data points: 1006\n",

      "Testing pair LRCX and TXN, Number of data points: 1006\n",

      "Testing pair LRCX and UBER, Number of data points: 888\n",

      "Testing pair MCHP and MU, Number of data points: 1006\n",

      "Testing pair MCHP and MSFT, Number of data points: 1006\n",

      "Testing pair MCHP and NVDA, Number of data points: 1006\n",

      "Testing pair MCHP and ON, Number of data points: 1006\n",

      "Testing pair MCHP and ORCL, Number of data points: 1006\n",

      "MCHP and ORCL are likely cointegrated (p-value: 0.0125)\n",

      "Current pairs in function after appending: [('AMAT', 'ORCL', 0.011063138830888717), ('AVGO', 'HPQ', 0.011923914144777725), ('LRCX', 'MCHP', 0.0101236952996349), ('MCHP', 'ORCL', 0.012498442037330998)]\n",

      "Testing pair MCHP and PLTR, Number of data points: 537\n",

      "Testing pair MCHP and QCOM, Number of data points: 1006\n",

      "Testing pair MCHP and CRM, Number of data points: 1006\n",

      "Testing pair MCHP and SMCI, Number of data points: 1006\n",

      "Testing pair MCHP and TXN, Number of data points: 1006\n",

      "MCHP and TXN are likely cointegrated (p-value: 0.0049)\n",

      "Current pairs in function after appending: [('AMAT', 'ORCL', 0.011063138830888717), ('AVGO', 'HPQ', 0.011923914144777725), ('LRCX', 'MCHP', 0.0101236952996349), ('MCHP', 'ORCL', 0.012498442037330998), ('MCHP', 'TXN', 0.004866022085177233)]\n",

      "Testing pair MCHP and UBER, Number of data points: 888\n",

      "Testing pair MU and MSFT, Number of data points: 1006\n",

      "Testing pair MU and NVDA, Number of data points: 1006\n",

      "Testing pair MU and ON, Number of data points: 1006\n",

      "Testing pair MU and ORCL, Number of data points: 1006\n",

      "Testing pair MU and PLTR, Number of data points: 537\n",

      "Testing pair MU and QCOM, Number of data points: 1006\n",

      "Testing pair MU and CRM, Number of data points: 1006\n",

      "Testing pair MU and SMCI, Number of data points: 1006\n",

      "Testing pair MU and TXN, Number of data points: 1006\n",

      "Testing pair MU and UBER, Number of data points: 888\n",

      "Testing pair MSFT and NVDA, Number of data points: 1006\n",

      "Testing pair MSFT and ON, Number of data points: 1006\n",

      "Testing pair MSFT and ORCL, Number of data points: 1006\n",

      "Testing pair MSFT and PLTR, Number of data points: 537\n",

      "Testing pair MSFT and QCOM, Number of data points: 1006\n",

      "Testing pair MSFT and CRM, Number of data points: 1006\n",

      "Testing pair MSFT and SMCI, Number of data points: 1006\n",

      "Testing pair MSFT and TXN, Number of data points: 1006\n",

      "Testing pair MSFT and UBER, Number of data points: 888\n",

      "Testing pair NVDA and ON, Number of data points: 1006\n",

      "Testing pair NVDA and ORCL, Number of data points: 1006\n",

      "Testing pair NVDA and PLTR, Number of data points: 537\n",

      "Testing pair NVDA and QCOM, Number of data points: 1006\n",

      "Testing pair NVDA and CRM, Number of data points: 1006\n",

      "Testing pair NVDA and SMCI, Number of data points: 1006\n",

      "Testing pair NVDA and TXN, Number of data points: 1006\n",

      "Testing pair NVDA and UBER, Number of data points: 888\n",

      "Testing pair ON and ORCL, Number of data points: 1006\n",

      "Testing pair ON and PLTR, Number of data points: 537\n",

      "Testing pair ON and QCOM, Number of data points: 1006\n",

      "Testing pair ON and CRM, Number of data points: 1006\n",

      "Testing pair ON and SMCI, Number of data points: 1006\n",

      "Testing pair ON and TXN, Number of data points: 1006\n",

      "Testing pair ON and UBER, Number of data points: 888\n",

      "Testing pair ORCL and PLTR, Number of data points: 537\n",

      "Testing pair ORCL and QCOM, Number of data points: 1006\n",

      "Testing pair ORCL and CRM, Number of data points: 1006\n",

      "Testing pair ORCL and SMCI, Number of data points: 1006\n",

      "Testing pair ORCL and TXN, Number of data points: 1006\n",

      "Testing pair ORCL and UBER, Number of data points: 888\n",

      "Testing pair PLTR and QCOM, Number of data points: 537\n",

      "Testing pair PLTR and CRM, Number of data points: 537\n",

      "Testing pair PLTR and SMCI, Number of data points: 537\n",

      "Testing pair PLTR and TXN, Number of data points: 537\n",

      "Testing pair PLTR and UBER, Number of data points: 537\n",

      "Testing pair QCOM and CRM, Number of data points: 1006\n",

      "Testing pair QCOM and SMCI, Number of data points: 1006\n",

      "Testing pair QCOM and TXN, Number of data points: 1006\n",

      "Testing pair QCOM and UBER, Number of data points: 888\n",

      "Testing pair CRM and SMCI, Number of data points: 1006\n",

      "Testing pair CRM and TXN, Number of data points: 1006\n",

      "Testing pair CRM and UBER, Number of data points: 888\n",

      "Testing pair SMCI and TXN, Number of data points: 1006\n",

      "Testing pair SMCI and UBER, Number of data points: 888\n",

      "Testing pair TXN and UBER, Number of data points: 888\n",

      "Pairs before sorting: [('AMAT', 'ORCL', 0.011063138830888717), ('AVGO', 'HPQ', 0.011923914144777725), ('LRCX', 'MCHP', 0.0101236952996349), ('MCHP', 'ORCL', 0.012498442037330998), ('MCHP', 'TXN', 0.004866022085177233)]\n",

      "Final sorted pairs in function: [('MCHP', 'TXN', 0.004866022085177233), ('LRCX', 'MCHP', 0.0101236952996349), ('AMAT', 'ORCL', 0.011063138830888717), ('AVGO', 'HPQ', 0.011923914144777725), ('MCHP', 'ORCL', 0.012498442037330998)]\n",

      "Cointegrated pairs for sector Technology: [('MCHP', 'TXN', 0.004866022085177233), ('LRCX', 'MCHP', 0.0101236952996349), ('AMAT', 'ORCL', 0.011063138830888717), ('AVGO', 'HPQ', 0.011923914144777725), ('MCHP', 'ORCL', 0.012498442037330998)]\n",

      "Accumulated pairs so far: [('BA', 'UAL', 0.012332123370913132), ('ABBV', 'CNC', 0.007582183936547386), ('CNC', 'CVS', 0.01175631565637868), ('JNJ', 'VTRS', 0.016116965094842797), ('MCHP', 'TXN', 0.004866022085177233), ('LRCX', 'MCHP', 0.0101236952996349), ('AMAT', 'ORCL', 0.011063138830888717), ('AVGO', 'HPQ', 0.011923914144777725), ('MCHP', 'ORCL', 0.012498442037330998)]\n",

      "Processing sector: Utilities, Number of companies: 6\n",

      "Testing pair AES and CNP, Number of data points: 1006\n",

      "Testing pair AES and EXC, Number of data points: 1006\n",

      "Testing pair AES and NEE, Number of data points: 1006\n",

      "Testing pair AES and PCG, Number of data points: 1006\n",

      "Testing pair AES and VST, Number of data points: 1006\n",

      "Testing pair CNP and EXC, Number of data points: 1006\n",

      "Testing pair CNP and NEE, Number of data points: 1006\n",

      "Testing pair CNP and PCG, Number of data points: 1006\n",

      "Testing pair CNP and VST, Number of data points: 1006\n",

      "Testing pair EXC and NEE, Number of data points: 1006\n",

      "Testing pair EXC and PCG, Number of data points: 1006\n",

      "Testing pair EXC and VST, Number of data points: 1006\n",

      "Testing pair NEE and PCG, Number of data points: 1006\n",

      "Testing pair NEE and VST, Number of data points: 1006\n",

      "Testing pair PCG and VST, Number of data points: 1006\n",

      "PCG and VST are likely cointegrated (p-value: 0.0034)\n",

      "Current pairs in function after appending: [('PCG', 'VST', 0.0033683272499536398)]\n",

      "Pairs before sorting: [('PCG', 'VST', 0.0033683272499536398)]\n",

      "Final sorted pairs in function: [('PCG', 'VST', 0.0033683272499536398)]\n",

      "Cointegrated pairs for sector Utilities: [('PCG', 'VST', 0.0033683272499536398)]\n",

      "Accumulated pairs so far: [('BA', 'UAL', 0.012332123370913132), ('ABBV', 'CNC', 0.007582183936547386), ('CNC', 'CVS', 0.01175631565637868), ('JNJ', 'VTRS', 0.016116965094842797), ('MCHP', 'TXN', 0.004866022085177233), ('LRCX', 'MCHP', 0.0101236952996349), ('AMAT', 'ORCL', 0.011063138830888717), ('AVGO', 'HPQ', 0.011923914144777725), ('MCHP', 'ORCL', 0.012498442037330998), ('PCG', 'VST', 0.0033683272499536398)]\n",

      "Processing sector: Financial Services, Number of companies: 13\n",

      "Testing pair BAC and SCHW, Number of data points: 1006\n",

      "Testing pair BAC and C, Number of data points: 1006\n",

      "Testing pair BAC and HBAN, Number of data points: 1006\n",

      "Testing pair BAC and JPM, Number of data points: 1006\n",

      "Testing pair BAC and KEY, Number of data points: 1006\n",

      "Testing pair BAC and MS, Number of data points: 1006\n",

      "Testing pair BAC and PYPL, Number of data points: 1006\n",

      "Testing pair BAC and RF, Number of data points: 1006\n",

      "Testing pair BAC and TFC, Number of data points: 1006\n",

      "Testing pair BAC and USB, Number of data points: 1006\n",

      "Testing pair BAC and V, Number of data points: 1006\n",

      "Testing pair BAC and WFC, Number of data points: 1006\n",

      "Testing pair SCHW and C, Number of data points: 1006\n",

      "Testing pair SCHW and HBAN, Number of data points: 1006\n",

      "Testing pair SCHW and JPM, Number of data points: 1006\n",

      "Testing pair SCHW and KEY, Number of data points: 1006\n",

      "Testing pair SCHW and MS, Number of data points: 1006\n",

      "Testing pair SCHW and PYPL, Number of data points: 1006\n",

      "Testing pair SCHW and RF, Number of data points: 1006\n",

      "SCHW and RF are likely cointegrated (p-value: 0.0190)\n",

      "Current pairs in function after appending: [('SCHW', 'RF', 0.018998402990664826)]\n",

      "Testing pair SCHW and TFC, Number of data points: 1006\n",

      "Testing pair SCHW and USB, Number of data points: 1006\n",

      "Testing pair SCHW and V, Number of data points: 1006\n",

      "Testing pair SCHW and WFC, Number of data points: 1006\n",

      "Testing pair C and HBAN, Number of data points: 1006\n",

      "Testing pair C and JPM, Number of data points: 1006\n",

      "Testing pair C and KEY, Number of data points: 1006\n",

      "Testing pair C and MS, Number of data points: 1006\n",

      "Testing pair C and PYPL, Number of data points: 1006\n",

      "Testing pair C and RF, Number of data points: 1006\n",

      "Testing pair C and TFC, Number of data points: 1006\n",

      "Testing pair C and USB, Number of data points: 1006\n",

      "Testing pair C and V, Number of data points: 1006\n",

      "Testing pair C and WFC, Number of data points: 1006\n",

      "Testing pair HBAN and JPM, Number of data points: 1006\n",

      "Testing pair HBAN and KEY, Number of data points: 1006\n",

      "Testing pair HBAN and MS, Number of data points: 1006\n",

      "Testing pair HBAN and PYPL, Number of data points: 1006\n",

      "Testing pair HBAN and RF, Number of data points: 1006\n",

      "Testing pair HBAN and TFC, Number of data points: 1006\n",

      "Testing pair HBAN and USB, Number of data points: 1006\n",

      "Testing pair HBAN and V, Number of data points: 1006\n",

      "Testing pair HBAN and WFC, Number of data points: 1006\n",

      "Testing pair JPM and KEY, Number of data points: 1006\n",

      "Testing pair JPM and MS, Number of data points: 1006\n",

      "Testing pair JPM and PYPL, Number of data points: 1006\n",

      "Testing pair JPM and RF, Number of data points: 1006\n",

      "Testing pair JPM and TFC, Number of data points: 1006\n",

      "Testing pair JPM and USB, Number of data points: 1006\n",

      "Testing pair JPM and V, Number of data points: 1006\n",

      "Testing pair JPM and WFC, Number of data points: 1006\n",

      "Testing pair KEY and MS, Number of data points: 1006\n",

      "Testing pair KEY and PYPL, Number of data points: 1006\n",

      "Testing pair KEY and RF, Number of data points: 1006\n",

      "Testing pair KEY and TFC, Number of data points: 1006\n",

      "Testing pair KEY and USB, Number of data points: 1006\n",

      "Testing pair KEY and V, Number of data points: 1006\n",

      "Testing pair KEY and WFC, Number of data points: 1006\n",

      "Testing pair MS and PYPL, Number of data points: 1006\n",

      "Testing pair MS and RF, Number of data points: 1006\n",

      "Testing pair MS and TFC, Number of data points: 1006\n",

      "Testing pair MS and USB, Number of data points: 1006\n",

      "Testing pair MS and V, Number of data points: 1006\n",

      "Testing pair MS and WFC, Number of data points: 1006\n",

      "Testing pair PYPL and RF, Number of data points: 1006\n",

      "Testing pair PYPL and TFC, Number of data points: 1006\n",

      "Testing pair PYPL and USB, Number of data points: 1006\n",

      "Testing pair PYPL and V, Number of data points: 1006\n",

      "Testing pair PYPL and WFC, Number of data points: 1006\n",

      "Testing pair RF and TFC, Number of data points: 1006\n",

      "Testing pair RF and USB, Number of data points: 1006\n",

      "Testing pair RF and V, Number of data points: 1006\n",

      "Testing pair RF and WFC, Number of data points: 1006\n",

      "Testing pair TFC and USB, Number of data points: 1006\n",

      "Testing pair TFC and V, Number of data points: 1006\n",

      "Testing pair TFC and WFC, Number of data points: 1006\n",

      "Testing pair USB and V, Number of data points: 1006\n",

      "Testing pair USB and WFC, Number of data points: 1006\n",

      "Testing pair V and WFC, Number of data points: 1006\n",

      "Pairs before sorting: [('SCHW', 'RF', 0.018998402990664826)]\n",

      "Final sorted pairs in function: [('SCHW', 'RF', 0.018998402990664826)]\n",

      "Cointegrated pairs for sector Financial Services: [('SCHW', 'RF', 0.018998402990664826)]\n",

      "Accumulated pairs so far: [('BA', 'UAL', 0.012332123370913132), ('ABBV', 'CNC', 0.007582183936547386), ('CNC', 'CVS', 0.01175631565637868), ('JNJ', 'VTRS', 0.016116965094842797), ('MCHP', 'TXN', 0.004866022085177233), ('LRCX', 'MCHP', 0.0101236952996349), ('AMAT', 'ORCL', 0.011063138830888717), ('AVGO', 'HPQ', 0.011923914144777725), ('MCHP', 'ORCL', 0.012498442037330998), ('PCG', 'VST', 0.0033683272499536398), ('SCHW', 'RF', 0.018998402990664826)]\n",

      "Processing sector: Basic Materials, Number of companies: 3\n",

      "Testing pair DOW and FCX, Number of data points: 924\n",

      "Testing pair DOW and NEM, Number of data points: 924\n",

      "Testing pair FCX and NEM, Number of data points: 924\n",

      "Pairs before sorting: []\n",

      "Final sorted pairs in function: []\n",

      "Cointegrated pairs for sector Basic Materials: []\n",

      "Accumulated pairs so far: [('BA', 'UAL', 0.012332123370913132), ('ABBV', 'CNC', 0.007582183936547386), ('CNC', 'CVS', 0.01175631565637868), ('JNJ', 'VTRS', 0.016116965094842797), ('MCHP', 'TXN', 0.004866022085177233), ('LRCX', 'MCHP', 0.0101236952996349), ('AMAT', 'ORCL', 0.011063138830888717), ('AVGO', 'HPQ', 0.011923914144777725), ('MCHP', 'ORCL', 0.012498442037330998), ('PCG', 'VST', 0.0033683272499536398), ('SCHW', 'RF', 0.018998402990664826)]\n",

      "Processing sector: Consumer Cyclical, Number of companies: 11\n",

      "Testing pair AMZN and AMCR, Number of data points: 1006\n",

      "Testing pair AMZN and CCL, Number of data points: 1006\n",

      "Testing pair AMZN and CMG, Number of data points: 1006\n",

      "Testing pair AMZN and F, Number of data points: 1006\n",

      "Testing pair AMZN and GM, Number of data points: 1006\n",

      "Testing pair AMZN and LVS, Number of data points: 1006\n",

      "Testing pair AMZN and NKE, Number of data points: 1006\n",

      "Testing pair AMZN and NCLH, Number of data points: 1006\n",

      "Testing pair AMZN and SBUX, Number of data points: 1006\n",

      "Testing pair AMZN and TSLA, Number of data points: 1006\n",

      "Testing pair AMCR and CCL, Number of data points: 1006\n",

      "Testing pair AMCR and CMG, Number of data points: 1006\n",

      "Testing pair AMCR and F, Number of data points: 1006\n",

      "Testing pair AMCR and GM, Number of data points: 1006\n",

      "Testing pair AMCR and LVS, Number of data points: 1006\n",

      "Testing pair AMCR and NKE, Number of data points: 1006\n",

      "Testing pair AMCR and NCLH, Number of data points: 1006\n",

      "Testing pair AMCR and SBUX, Number of data points: 1006\n",

      "Testing pair AMCR and TSLA, Number of data points: 1006\n",

      "Testing pair CCL and CMG, Number of data points: 1006\n",

      "Testing pair CCL and F, Number of data points: 1006\n",

      "Testing pair CCL and GM, Number of data points: 1006\n",

      "Testing pair CCL and LVS, Number of data points: 1006\n",

      "Testing pair CCL and NKE, Number of data points: 1006\n",

      "Testing pair CCL and NCLH, Number of data points: 1006\n",

      "Testing pair CCL and SBUX, Number of data points: 1006\n",

      "Testing pair CCL and TSLA, Number of data points: 1006\n",

      "Testing pair CMG and F, Number of data points: 1006\n",

      "Testing pair CMG and GM, Number of data points: 1006\n",

      "Testing pair CMG and LVS, Number of data points: 1006\n",

      "Testing pair CMG and NKE, Number of data points: 1006\n",

      "Testing pair CMG and NCLH, Number of data points: 1006\n",

      "Testing pair CMG and SBUX, Number of data points: 1006\n",

      "Testing pair CMG and TSLA, Number of data points: 1006\n",

      "Testing pair F and GM, Number of data points: 1006\n",

      "Testing pair F and LVS, Number of data points: 1006\n",

      "Testing pair F and NKE, Number of data points: 1006\n",

      "Testing pair F and NCLH, Number of data points: 1006\n",

      "Testing pair F and SBUX, Number of data points: 1006\n",

      "Testing pair F and TSLA, Number of data points: 1006\n",

      "Testing pair GM and LVS, Number of data points: 1006\n",

      "Testing pair GM and NKE, Number of data points: 1006\n",

      "Testing pair GM and NCLH, Number of data points: 1006\n",

      "Testing pair GM and SBUX, Number of data points: 1006\n",

      "Testing pair GM and TSLA, Number of data points: 1006\n",

      "Testing pair LVS and NKE, Number of data points: 1006\n",

      "Testing pair LVS and NCLH, Number of data points: 1006\n",

      "Testing pair LVS and SBUX, Number of data points: 1006\n",

      "Testing pair LVS and TSLA, Number of data points: 1006\n",

      "Testing pair NKE and NCLH, Number of data points: 1006\n",

      "Testing pair NKE and SBUX, Number of data points: 1006\n",

      "Testing pair NKE and TSLA, Number of data points: 1006\n",

      "Testing pair NCLH and SBUX, Number of data points: 1006\n",

      "Testing pair NCLH and TSLA, Number of data points: 1006\n",

      "Testing pair SBUX and TSLA, Number of data points: 1006\n",

      "Pairs before sorting: []\n",

      "Final sorted pairs in function: []\n",

      "Cointegrated pairs for sector Consumer Cyclical: []\n",

      "Accumulated pairs so far: [('BA', 'UAL', 0.012332123370913132), ('ABBV', 'CNC', 0.007582183936547386), ('CNC', 'CVS', 0.01175631565637868), ('JNJ', 'VTRS', 0.016116965094842797), ('MCHP', 'TXN', 0.004866022085177233), ('LRCX', 'MCHP', 0.0101236952996349), ('AMAT', 'ORCL', 0.011063138830888717), ('AVGO', 'HPQ', 0.011923914144777725), ('MCHP', 'ORCL', 0.012498442037330998), ('PCG', 'VST', 0.0033683272499536398), ('SCHW', 'RF', 0.018998402990664826)]\n",

      "Processing sector: Real Estate, Number of companies: 2\n",

      "Testing pair DOC and HST, Number of data points: 1006\n",

      "Pairs before sorting: []\n",

      "Final sorted pairs in function: []\n",

      "Cointegrated pairs for sector Real Estate: []\n",

      "Accumulated pairs so far: [('BA', 'UAL', 0.012332123370913132), ('ABBV', 'CNC', 0.007582183936547386), ('CNC', 'CVS', 0.01175631565637868), ('JNJ', 'VTRS', 0.016116965094842797), ('MCHP', 'TXN', 0.004866022085177233), ('LRCX', 'MCHP', 0.0101236952996349), ('AMAT', 'ORCL', 0.011063138830888717), ('AVGO', 'HPQ', 0.011923914144777725), ('MCHP', 'ORCL', 0.012498442037330998), ('PCG', 'VST', 0.0033683272499536398), ('SCHW', 'RF', 0.018998402990664826)]\n",

      "Processing sector: Communication Services, Number of companies: 9\n",

      "Testing pair GOOGL and GOOG, Number of data points: 1006\n",

      "Testing pair GOOGL and T, Number of data points: 1006\n",

      "Testing pair GOOGL and CMCSA, Number of data points: 1006\n",

      "Testing pair GOOGL and META, Number of data points: 1006\n",

      "Testing pair GOOGL and PARA, Number of data points: 1006\n",

      "Testing pair GOOGL and VZ, Number of data points: 1006\n",

      "Testing pair GOOGL and DIS, Number of data points: 1006\n",

      "Testing pair GOOGL and WBD, Number of data points: 1006\n",

      "Testing pair GOOG and T, Number of data points: 1006\n",

      "Testing pair GOOG and CMCSA, Number of data points: 1006\n",

      "Testing pair GOOG and META, Number of data points: 1006\n",

      "Testing pair GOOG and PARA, Number of data points: 1006\n",

      "Testing pair GOOG and VZ, Number of data points: 1006\n",

      "Testing pair GOOG and DIS, Number of data points: 1006\n",

      "Testing pair GOOG and WBD, Number of data points: 1006\n",

      "Testing pair T and CMCSA, Number of data points: 1006\n",

      "Testing pair T and META, Number of data points: 1006\n",

      "Testing pair T and PARA, Number of data points: 1006\n",

      "Testing pair T and VZ, Number of data points: 1006\n",

      "Testing pair T and DIS, Number of data points: 1006\n",

      "Testing pair T and WBD, Number of data points: 1006\n",

      "Testing pair CMCSA and META, Number of data points: 1006\n",

      "CMCSA and META are likely cointegrated (p-value: 0.0131)\n",

      "Current pairs in function after appending: [('CMCSA', 'META', 0.013069655784001785)]\n",

      "Testing pair CMCSA and PARA, Number of data points: 1006\n",

      "Testing pair CMCSA and VZ, Number of data points: 1006\n",

      "Testing pair CMCSA and DIS, Number of data points: 1006\n",

      "Testing pair CMCSA and WBD, Number of data points: 1006\n",

      "Testing pair META and PARA, Number of data points: 1006\n",

      "Testing pair META and VZ, Number of data points: 1006\n",

      "Testing pair META and DIS, Number of data points: 1006\n",

      "Testing pair META and WBD, Number of data points: 1006\n",

      "Testing pair PARA and VZ, Number of data points: 1006\n",

      "Testing pair PARA and DIS, Number of data points: 1006\n",

      "Testing pair PARA and WBD, Number of data points: 1006\n",

      "Testing pair VZ and DIS, Number of data points: 1006\n",

      "Testing pair VZ and WBD, Number of data points: 1006\n",

      "Testing pair DIS and WBD, Number of data points: 1006\n",

      "Pairs before sorting: [('CMCSA', 'META', 0.013069655784001785)]\n",

      "Final sorted pairs in function: [('CMCSA', 'META', 0.013069655784001785)]\n",

      "Cointegrated pairs for sector Communication Services: [('CMCSA', 'META', 0.013069655784001785)]\n",

      "Accumulated pairs so far: [('BA', 'UAL', 0.012332123370913132), ('ABBV', 'CNC', 0.007582183936547386), ('CNC', 'CVS', 0.01175631565637868), ('JNJ', 'VTRS', 0.016116965094842797), ('MCHP', 'TXN', 0.004866022085177233), ('LRCX', 'MCHP', 0.0101236952996349), ('AMAT', 'ORCL', 0.011063138830888717), ('AVGO', 'HPQ', 0.011923914144777725), ('MCHP', 'ORCL', 0.012498442037330998), ('PCG', 'VST', 0.0033683272499536398), ('SCHW', 'RF', 0.018998402990664826), ('CMCSA', 'META', 0.013069655784001785)]\n"

     ]

    },

    {

     "name": "stderr",

     "output_type": "stream",

     "text": [

      "$KVUE: possibly delisted; no price data found  (1d 2018-11-16 -> 2022-11-16) (Yahoo error = \"Data doesn't exist for startDate = 1542344400, endDate = 1668574800\")\n"

     ]

    },

    {

     "name": "stdout",

     "output_type": "stream",

     "text": [

      "Processing sector: Consumer Defensive, Number of companies: 13\n",

      "Testing pair MO and KO, Number of data points: 1006\n",

      "Testing pair MO and DG, Number of data points: 1006\n",

      "Testing pair MO and DLTR, Number of data points: 1006\n",

      "Testing pair MO and KVUE, Number of data points: 0\n",

      "Testing pair MO and KDP, Number of data points: 1006\n",

      "Testing pair MO and KHC, Number of data points: 1006\n",

      "Testing pair MO and MDLZ, Number of data points: 1006\n",

      "Testing pair MO and MNST, Number of data points: 1006\n",

      "Testing pair MO and PEP, Number of data points: 1006\n",

      "Testing pair MO and PM, Number of data points: 1006\n",

      "Testing pair MO and PG, Number of data points: 1006\n",

      "Testing pair MO and WMT, Number of data points: 1006\n",

      "Testing pair KO and DG, Number of data points: 1006\n",

      "Testing pair KO and DLTR, Number of data points: 1006\n",

      "Testing pair KO and KVUE, Number of data points: 0\n",

      "Testing pair KO and KDP, Number of data points: 1006\n",

      "Testing pair KO and KHC, Number of data points: 1006\n",

      "Testing pair KO and MDLZ, Number of data points: 1006\n",

      "Testing pair KO and MNST, Number of data points: 1006\n",

      "Testing pair KO and PEP, Number of data points: 1006\n",

      "Testing pair KO and PM, Number of data points: 1006\n",

      "Testing pair KO and PG, Number of data points: 1006\n",

      "Testing pair KO and WMT, Number of data points: 1006\n",

      "Testing pair DG and DLTR, Number of data points: 1006\n",

      "Testing pair DG and KVUE, Number of data points: 0\n",

      "Testing pair DG and KDP, Number of data points: 1006\n",

      "Testing pair DG and KHC, Number of data points: 1006\n",

      "Testing pair DG and MDLZ, Number of data points: 1006\n",

      "Testing pair DG and MNST, Number of data points: 1006\n",

      "Testing pair DG and PEP, Number of data points: 1006\n",

      "Testing pair DG and PM, Number of data points: 1006\n",

      "Testing pair DG and PG, Number of data points: 1006\n",

      "Testing pair DG and WMT, Number of data points: 1006\n",

      "Testing pair DLTR and KVUE, Number of data points: 0\n",

      "Testing pair DLTR and KDP, Number of data points: 1006\n",

      "Testing pair DLTR and KHC, Number of data points: 1006\n",

      "Testing pair DLTR and MDLZ, Number of data points: 1006\n",

      "Testing pair DLTR and MNST, Number of data points: 1006\n",

      "Testing pair DLTR and PEP, Number of data points: 1006\n",

      "Testing pair DLTR and PM, Number of data points: 1006\n",

      "Testing pair DLTR and PG, Number of data points: 1006\n",

      "Testing pair DLTR and WMT, Number of data points: 1006\n",

      "Testing pair KVUE and KDP, Number of data points: 0\n",

      "Testing pair KVUE and KHC, Number of data points: 0\n",

      "Testing pair KVUE and MDLZ, Number of data points: 0\n",

      "Testing pair KVUE and MNST, Number of data points: 0\n",

      "Testing pair KVUE and PEP, Number of data points: 0\n",

      "Testing pair KVUE and PM, Number of data points: 0\n",

      "Testing pair KVUE and PG, Number of data points: 0\n",

      "Testing pair KVUE and WMT, Number of data points: 0\n",

      "Testing pair KDP and KHC, Number of data points: 1006\n",

      "Testing pair KDP and MDLZ, Number of data points: 1006\n",

      "Testing pair KDP and MNST, Number of data points: 1006\n",

      "Testing pair KDP and PEP, Number of data points: 1006\n",

      "Testing pair KDP and PM, Number of data points: 1006\n",

      "KDP and PM are likely cointegrated (p-value: 0.0004)\n",

      "Current pairs in function after appending: [('KDP', 'PM', 0.0003882726622174265)]\n",

      "Testing pair KDP and PG, Number of data points: 1006\n",

      "Testing pair KDP and WMT, Number of data points: 1006\n",

      "Testing pair KHC and MDLZ, Number of data points: 1006\n",

      "Testing pair KHC and MNST, Number of data points: 1006\n",

      "Testing pair KHC and PEP, Number of data points: 1006\n",

      "Testing pair KHC and PM, Number of data points: 1006\n",

      "Testing pair KHC and PG, Number of data points: 1006\n",

      "Testing pair KHC and WMT, Number of data points: 1006\n",

      "Testing pair MDLZ and MNST, Number of data points: 1006\n",

      "Testing pair MDLZ and PEP, Number of data points: 1006\n",

      "Testing pair MDLZ and PM, Number of data points: 1006\n",

      "MDLZ and PM are likely cointegrated (p-value: 0.0181)\n",

      "Current pairs in function after appending: [('KDP', 'PM', 0.0003882726622174265), ('MDLZ', 'PM', 0.018132236791800264)]\n",

      "Testing pair MDLZ and PG, Number of data points: 1006\n",

      "Testing pair MDLZ and WMT, Number of data points: 1006\n",

      "Testing pair MNST and PEP, Number of data points: 1006\n",

      "Testing pair MNST and PM, Number of data points: 1006\n",

      "Testing pair MNST and PG, Number of data points: 1006\n",

      "Testing pair MNST and WMT, Number of data points: 1006\n",

      "Testing pair PEP and PM, Number of data points: 1006\n",

      "Testing pair PEP and PG, Number of data points: 1006\n",

      "Testing pair PEP and WMT, Number of data points: 1006\n",

      "Testing pair PM and PG, Number of data points: 1006\n",

      "Testing pair PM and WMT, Number of data points: 1006\n",

      "Testing pair PG and WMT, Number of data points: 1006\n",

      "Pairs before sorting: [('KDP', 'PM', 0.0003882726622174265), ('MDLZ', 'PM', 0.018132236791800264)]\n",

      "Final sorted pairs in function: [('KDP', 'PM', 0.0003882726622174265), ('MDLZ', 'PM', 0.018132236791800264)]\n",

      "Cointegrated pairs for sector Consumer Defensive: [('KDP', 'PM', 0.0003882726622174265), ('MDLZ', 'PM', 0.018132236791800264)]\n",

      "Accumulated pairs so far: [('BA', 'UAL', 0.012332123370913132), ('ABBV', 'CNC', 0.007582183936547386), ('CNC', 'CVS', 0.01175631565637868), ('JNJ', 'VTRS', 0.016116965094842797), ('MCHP', 'TXN', 0.004866022085177233), ('LRCX', 'MCHP', 0.0101236952996349), ('AMAT', 'ORCL', 0.011063138830888717), ('AVGO', 'HPQ', 0.011923914144777725), ('MCHP', 'ORCL', 0.012498442037330998), ('PCG', 'VST', 0.0033683272499536398), ('SCHW', 'RF', 0.018998402990664826), ('CMCSA', 'META', 0.013069655784001785), ('KDP', 'PM', 0.0003882726622174265), ('MDLZ', 'PM', 0.018132236791800264)]\n",

      "Processing sector: Energy, Number of companies: 14\n",

      "Testing pair APA and BKR, Number of data points: 1006\n",

      "Testing pair APA and CVX, Number of data points: 1006\n",

      "Testing pair APA and COP, Number of data points: 1006\n",

      "Testing pair APA and CTRA, Number of data points: 1006\n",

      "Testing pair APA and DVN, Number of data points: 1006\n",

      "Testing pair APA and EQT, Number of data points: 1006\n",

      "Testing pair APA and XOM, Number of data points: 1006\n",

      "APA and XOM are likely cointegrated (p-value: 0.0162)\n",

      "Current pairs in function after appending: [('APA', 'XOM', 0.016152009387094688)]\n",

      "Testing pair APA and HAL, Number of data points: 1006\n",

      "Testing pair APA and KMI, Number of data points: 1006\n",

      "Testing pair APA and MRO, Number of data points: 1006\n",

      "APA and MRO are likely cointegrated (p-value: 0.0037)\n",

      "Current pairs in function after appending: [('APA', 'XOM', 0.016152009387094688), ('APA', 'MRO', 0.0037492112436776294)]\n",

      "Testing pair APA and OXY, Number of data points: 1006\n",

      "Testing pair APA and SLB, Number of data points: 1006\n",

      "Testing pair APA and WMB, Number of data points: 1006\n",

      "Testing pair BKR and CVX, Number of data points: 1006\n",

      "Testing pair BKR and COP, Number of data points: 1006\n",

      "Testing pair BKR and CTRA, Number of data points: 1006\n",

      "Testing pair BKR and DVN, Number of data points: 1006\n",

      "Testing pair BKR and EQT, Number of data points: 1006\n",

      "Testing pair BKR and XOM, Number of data points: 1006\n",

      "Testing pair BKR and HAL, Number of data points: 1006\n",

      "BKR and HAL are likely cointegrated (p-value: 0.0150)\n",

      "Current pairs in function after appending: [('APA', 'XOM', 0.016152009387094688), ('APA', 'MRO', 0.0037492112436776294), ('BKR', 'HAL', 0.014960439371984092)]\n",

      "Testing pair BKR and KMI, Number of data points: 1006\n",

      "Testing pair BKR and MRO, Number of data points: 1006\n",

      "Testing pair BKR and OXY, Number of data points: 1006\n",

      "Testing pair BKR and SLB, Number of data points: 1006\n",

      "Testing pair BKR and WMB, Number of data points: 1006\n",

      "Testing pair CVX and COP, Number of data points: 1006\n",

      "Testing pair CVX and CTRA, Number of data points: 1006\n",

      "Testing pair CVX and DVN, Number of data points: 1006\n",

      "Testing pair CVX and EQT, Number of data points: 1006\n",

      "Testing pair CVX and XOM, Number of data points: 1006\n",

      "Testing pair CVX and HAL, Number of data points: 1006\n",

      "Testing pair CVX and KMI, Number of data points: 1006\n",

      "Testing pair CVX and MRO, Number of data points: 1006\n",

      "Testing pair CVX and OXY, Number of data points: 1006\n",

      "Testing pair CVX and SLB, Number of data points: 1006\n",

      "Testing pair CVX and WMB, Number of data points: 1006\n",

      "Testing pair COP and CTRA, Number of data points: 1006\n",

      "Testing pair COP and DVN, Number of data points: 1006\n",

      "Testing pair COP and EQT, Number of data points: 1006\n",

      "Testing pair COP and XOM, Number of data points: 1006\n",

      "Testing pair COP and HAL, Number of data points: 1006\n",

      "Testing pair COP and KMI, Number of data points: 1006\n",

      "Testing pair COP and MRO, Number of data points: 1006\n",

      "Testing pair COP and OXY, Number of data points: 1006\n",

      "Testing pair COP and SLB, Number of data points: 1006\n",

      "Testing pair COP and WMB, Number of data points: 1006\n",

      "Testing pair CTRA and DVN, Number of data points: 1006\n",

      "Testing pair CTRA and EQT, Number of data points: 1006\n",

      "Testing pair CTRA and XOM, Number of data points: 1006\n",

      "Testing pair CTRA and HAL, Number of data points: 1006\n",

      "Testing pair CTRA and KMI, Number of data points: 1006\n",

      "Testing pair CTRA and MRO, Number of data points: 1006\n",

      "Testing pair CTRA and OXY, Number of data points: 1006\n",

      "Testing pair CTRA and SLB, Number of data points: 1006\n",

      "Testing pair CTRA and WMB, Number of data points: 1006\n",

      "Testing pair DVN and EQT, Number of data points: 1006\n",

      "Testing pair DVN and XOM, Number of data points: 1006\n",

      "Testing pair DVN and HAL, Number of data points: 1006\n",

      "Testing pair DVN and KMI, Number of data points: 1006\n",

      "Testing pair DVN and MRO, Number of data points: 1006\n",

      "Testing pair DVN and OXY, Number of data points: 1006\n",

      "Testing pair DVN and SLB, Number of data points: 1006\n",

      "Testing pair DVN and WMB, Number of data points: 1006\n",

      "Testing pair EQT and XOM, Number of data points: 1006\n",

      "Testing pair EQT and HAL, Number of data points: 1006\n",

      "Testing pair EQT and KMI, Number of data points: 1006\n",

      "Testing pair EQT and MRO, Number of data points: 1006\n",

      "Testing pair EQT and OXY, Number of data points: 1006\n",

      "Testing pair EQT and SLB, Number of data points: 1006\n",

      "Testing pair EQT and WMB, Number of data points: 1006\n",

      "Testing pair XOM and HAL, Number of data points: 1006\n",

      "Testing pair XOM and KMI, Number of data points: 1006\n",

      "Testing pair XOM and MRO, Number of data points: 1006\n",

      "Testing pair XOM and OXY, Number of data points: 1006\n",

      "Testing pair XOM and SLB, Number of data points: 1006\n",

      "Testing pair XOM and WMB, Number of data points: 1006\n",

      "Testing pair HAL and KMI, Number of data points: 1006\n",

      "Testing pair HAL and MRO, Number of data points: 1006\n",

      "Testing pair HAL and OXY, Number of data points: 1006\n",

      "Testing pair HAL and SLB, Number of data points: 1006\n",

      "Testing pair HAL and WMB, Number of data points: 1006\n",

      "Testing pair KMI and MRO, Number of data points: 1006\n",

      "Testing pair KMI and OXY, Number of data points: 1006\n",

      "Testing pair KMI and SLB, Number of data points: 1006\n",

      "Testing pair KMI and WMB, Number of data points: 1006\n",

      "Testing pair MRO and OXY, Number of data points: 1006\n",

      "Testing pair MRO and SLB, Number of data points: 1006\n",

      "Testing pair MRO and WMB, Number of data points: 1006\n",

      "Testing pair OXY and SLB, Number of data points: 1006\n",

      "Testing pair OXY and WMB, Number of data points: 1006\n",

      "Testing pair SLB and WMB, Number of data points: 1006\n",

      "Pairs before sorting: [('APA', 'XOM', 0.016152009387094688), ('APA', 'MRO', 0.0037492112436776294), ('BKR', 'HAL', 0.014960439371984092)]\n",

      "Final sorted pairs in function: [('APA', 'MRO', 0.0037492112436776294), ('BKR', 'HAL', 0.014960439371984092), ('APA', 'XOM', 0.016152009387094688)]\n",

      "Cointegrated pairs for sector Energy: [('APA', 'MRO', 0.0037492112436776294), ('BKR', 'HAL', 0.014960439371984092), ('APA', 'XOM', 0.016152009387094688)]\n",

      "Accumulated pairs so far: [('BA', 'UAL', 0.012332123370913132), ('ABBV', 'CNC', 0.007582183936547386), ('CNC', 'CVS', 0.01175631565637868), ('JNJ', 'VTRS', 0.016116965094842797), ('MCHP', 'TXN', 0.004866022085177233), ('LRCX', 'MCHP', 0.0101236952996349), ('AMAT', 'ORCL', 0.011063138830888717), ('AVGO', 'HPQ', 0.011923914144777725), ('MCHP', 'ORCL', 0.012498442037330998), ('PCG', 'VST', 0.0033683272499536398), ('SCHW', 'RF', 0.018998402990664826), ('CMCSA', 'META', 0.013069655784001785), ('KDP', 'PM', 0.0003882726622174265), ('MDLZ', 'PM', 0.018132236791800264), ('APA', 'MRO', 0.0037492112436776294), ('BKR', 'HAL', 0.014960439371984092), ('APA', 'XOM', 0.016152009387094688)]\n",

      "\n",

      "All Cointegrated Pairs Across Sectors:\n",

      "('BA', 'UAL', 0.012332123370913132)\n",

      "('ABBV', 'CNC', 0.007582183936547386)\n",

      "('CNC', 'CVS', 0.01175631565637868)\n",

      "('JNJ', 'VTRS', 0.016116965094842797)\n",

      "('MCHP', 'TXN', 0.004866022085177233)\n",

      "('LRCX', 'MCHP', 0.0101236952996349)\n",

      "('AMAT', 'ORCL', 0.011063138830888717)\n",

      "('AVGO', 'HPQ', 0.011923914144777725)\n",

      "('MCHP', 'ORCL', 0.012498442037330998)\n",

      "('PCG', 'VST', 0.0033683272499536398)\n",

      "('SCHW', 'RF', 0.018998402990664826)\n",

      "('CMCSA', 'META', 0.013069655784001785)\n",

      "('KDP', 'PM', 0.0003882726622174265)\n",

      "('MDLZ', 'PM', 0.018132236791800264)\n",

      "('APA', 'MRO', 0.0037492112436776294)\n",

      "('BKR', 'HAL', 0.014960439371984092)\n",

      "('APA', 'XOM', 0.016152009387094688)\n"

     ]

    }

   ],

   "source": [

    "all_pairs_data = []  # Initialize once before the loop\n",

    "\n",

    "for sector in unique_sectors_list:\n",

    "    if sector != 'No fundamentals data found for any of the summaryTypes=summaryProfile':\n",

    "        filtered_symbols_df = filter_companies(all_companies, sector)\n",

    "        print(f\"Processing sector: {sector}, Number of companies: {len(filtered_symbols_df.columns)}\")\n",

    "\n",

    "        if len(filtered_symbols_df.columns) < 2:\n",

    "            print(f\"Not enough companies in sector {sector} for cointegration testing.\")\n",

    "            continue\n",

    "\n",

    "        # Find cointegrated pairs for the current sector\n",

    "        pairs_data = find_cointegrated_pairs(filtered_symbols_df, p_value_threshold=0.02, min_data_points_threshold=100)\n",

    "\n",

    "        # Debug: Print pairs_data being returned for the current sector\n",

    "        print(f\"Cointegrated pairs for sector {sector}: {pairs_data}\")\n",

    "\n",

    "        # Accumulate the pairs data across all sectors\n",

    "        all_pairs_data.extend(pairs_data)  # Ensure correct accumulation\n",

    "\n",

    "        # Debug: Print the current state of all_pairs_data after each sector\n",

    "        print(f\"Accumulated pairs so far: {all_pairs_data}\")\n",

    "\n",

    "# Final accumulated result\n",

    "print(\"\\nAll Cointegrated Pairs Across Sectors:\")\n",

    "for pair in all_pairs_data:\n",

    "    print(pair)\n"

   ]

  },

  {

   "cell_type": "code",

   "execution_count": 20,

   "id": "7838da68-efd3-4dc6-ac05-d2be406aa1dd",

   "metadata": {},

   "outputs": [

    {

     "data": {

      "text/plain": [

       "[('KDP', 'PM', 0.0003882726622174265),\n",

       " ('PCG', 'VST', 0.0033683272499536398),\n",

       " ('APA', 'MRO', 0.0037492112436776294),\n",

       " ('MCHP', 'TXN', 0.004866022085177233),\n",

       " ('ABBV', 'CNC', 0.007582183936547386),\n",

       " ('LRCX', 'MCHP', 0.0101236952996349),\n",

       " ('AMAT', 'ORCL', 0.011063138830888717),\n",

       " ('CNC', 'CVS', 0.01175631565637868),\n",

       " ('AVGO', 'HPQ', 0.011923914144777725),\n",

       " ('BA', 'UAL', 0.012332123370913132),\n",

       " ('MCHP', 'ORCL', 0.012498442037330998),\n",

       " ('CMCSA', 'META', 0.013069655784001785),\n",

       " ('BKR', 'HAL', 0.014960439371984092),\n",

       " ('JNJ', 'VTRS', 0.016116965094842797),\n",

       " ('APA', 'XOM', 0.016152009387094688),\n",

       " ('MDLZ', 'PM', 0.018132236791800264),\n",

       " ('SCHW', 'RF', 0.018998402990664826)]"

      ]

     },

     "execution_count": 20,

     "metadata": {},

     "output_type": "execute_result"

    }

   ],

   "source": [

    "sorted_pairs = sorted(all_pairs_data, key=lambda x: x[2])\n",

    "sorted_pairs"

   ]

  },

  {

   "cell_type": "code",

   "execution_count": 21,

   "id": "e4d2f5e7-9021-4fa3-8637-17053abcd3f9",

   "metadata": {},

   "outputs": [

    {

     "name": "stdout",

     "output_type": "stream",

     "text": [

      "The pair: KDP, PM are NOT validated with p-value = 0.4500183757415706\n",

      "The pair: PCG, VST are NOT validated with p-value = 0.05864989534219846\n",

      "The pair: APA, MRO are NOT validated with p-value = 0.7376888436818415\n",

      "The pair: MCHP, TXN are NOT validated with p-value = 0.7320379363976766\n",

      "The pair: ABBV, CNC are NOT validated with p-value = 0.8457336902585557\n",

      "The pair: LRCX, MCHP are NOT validated with p-value = 0.8118318048557529\n",

      "The pair: AMAT, ORCL are NOT validated with p-value = 0.9683098518349559\n",

      "The pair: CNC, CVS are NOT validated with p-value = 0.3925400714725553\n",

      "The pair: AVGO, HPQ are NOT validated with p-value = 0.20348298800152287\n",

      "The pair: BA, UAL are NOT validated with p-value = 0.36981639971452007\n",

      "The pair: MCHP, ORCL are NOT validated with p-value = 0.6410310820280237\n",

      "The pair: CMCSA, META are NOT validated with p-value = 0.42700391109096797\n",

      "The pair: BKR, HAL are NOT validated with p-value = 0.9761076716594945\n",

      "The pair: JNJ, VTRS are NOT validated with p-value = 0.24884500855391295\n",

      "The pair: APA, XOM are NOT validated with p-value = 0.1418392043674933\n",

      "The pair: MDLZ, PM are NOT validated with p-value = 0.36742357040021845\n",

      "The pair: SCHW, RF are NOT validated with p-value = 0.5038993187408569\n"

     ]

    }

   ],

   "source": [

    "for tup in sorted_pairs:\n",

    "    \n",

    "    ticker_1 = yf.Ticker(tup[0])\n",

    "    ticker_2 = yf.Ticker(tup[1])\n",

    "    data_1 = ticker_1.history(start=\"2022-11-16\", end=\"2024-11-16\")[\"Close\"]\n",

    "    data_2 = ticker_2.history(start=\"2022-11-16\", end=\"2024-11-16\")[\"Close\"]\n",

    "\n",

    "    coint_t, p_value, _ = coint(data_1, data_2)\n",

    "    if p_value < 0.05:\n",

    "        print(f\"The pair: {tup[0]}, {tup[1]} are validated with p-value = {p_value}\")\n",

    "    else:\n",

    "        print(f\"The pair: {tup[0]}, {tup[1]} are NOT validated with p-value = {p_value}\")"

   ]

  },

  {

   "cell_type": "code",

   "execution_count": null,

   "id": "dea7466a-0de3-456c-967b-aca2f130874f",

   "metadata": {},

   "outputs": [],

   "source": [

    "def filter_all_companies(companies, marketCap_thresh=2_000_000_000, averageVolume_thresh=5_000_000, start_date=\"2018-11-16\", end_date=\"2022-11-16\"):\n",

    "    \"\"\"\n",

    "    Filters companies by market cap and average volume.\n",

    "    Fetches historical closing prices for each filtered symbol.\n",

    "\n",

    "    Parameters:\n",

    "    - companies: DataFrame containing company data, including 'sector' and 'symbol'.\n",

    "    - marketCap_thresh: Minimum market capitalization (default is 2 billion).\n",

    "    - averageVolume_thresh: Minimum average volume (default is 5 million).\n",

    "    - start_date: Start date for historical data.\n",

    "    - end_date: End date for historical data.\n",

    "    \"\"\"\n",

    "    # Get the list of all company symbols\n",

    "    all_symbols = companies['symbol'].tolist()\n",

    "\n",

    "    filtered_symbols = []\n",

    "    for symbol in all_symbols:\n",

    "        try:\n",

    "            # Fetch ticker info with error handling\n",

    "            ticker_info = yf.Ticker(symbol).info\n",

    "\n",

    "            # Check if data exists and if marketCap and averageVolume thresholds are met\n",

    "            market_cap = ticker_info.get(\"marketCap\")\n",

    "            average_volume = ticker_info.get(\"averageVolume\")\n",

    "            if market_cap is not None and market_cap > marketCap_thresh and \\\n",

    "                    average_volume is not None and average_volume > averageVolume_thresh:\n",

    "                filtered_symbols.append(symbol)\n",

    "        except Exception as e:\n",

    "            # Print or log error message for the symbol\n",

    "            print(f\"Error fetching data for {symbol}: {e}\")\n",

    "        # Add delay to avoid rate limiting\n",

    "        time.sleep(0.5)\n",

    "\n",

    "    # Initialize an empty DataFrame to store the historical closing prices\n",

    "    filtered_symbols_df = pd.DataFrame()\n",

    "\n",

    "    # Fetch historical data for each filtered symbol\n",

    "    for symbol in filtered_symbols:\n",

    "        try:\n",

    "            ticker = yf.Ticker(symbol)\n",

    "            historical_data = ticker.history(start=start_date, end=end_date)\n",

    "            # Store the 'Close' prices in the DataFrame\n",

    "            filtered_symbols_df[symbol] = historical_data['Close']\n",

    "        except Exception as e:\n",

    "            # Print or log error message for the symbol if historical data cannot be fetched\n",

    "            print(f\"Error fetching historical data for {symbol}: {e}\")\n",

    "        # Add delay to avoid rate limiting\n",

    "        time.sleep(0.05)\n",

    "\n",

    "    return filtered_symbols_df\n"

   ]

  },

  {

   "cell_type": "code",

   "execution_count": null,

   "id": "34a7a5bd-7a47-45c2-b796-95f01992b14f",

   "metadata": {},

   "outputs": [],

   "source": [

    "all_pairs_2 = []  # Initialize once before the loop\n",

    "\n",

    "filtered_symbols_df_2 = filter_all_companies(all_companies)\n",

    "\n",

    "pairs_data_2 = find_cointegrated_pairs(filtered_symbols_df_2, p_value_threshold=0.02, min_data_points_threshold=100)\n",

    "\n",

    "all_pairs_data_2.extend(pairs_data_2)  \n",

    "\n",

    "# Final accumulated result\n",

    "print(\"\\nAll Cointegrated Pairs Across Sectors:\")\n",

    "for pair in all_pairs_data_2:\n",

    "    print(pair)"

   ]

  },

  {

   "cell_type": "code",

   "execution_count": 31,

   "id": "6c674da9-341f-4327-8f90-f72468262b85",

   "metadata": {},

   "outputs": [

    {

     "data": {

      "text/plain": [

       "[('CSX', 'DELL', 6.320426653403685e-05),\n",

       " ('CSX', 'FCX', 0.0003486068746788512),\n",

       " ('KDP', 'PM', 0.00038827372364038564),\n",

       " ('MDLZ', 'VTRS', 0.0007694119226627506),\n",

       " ('HPE', 'HST', 0.000859558553769059),\n",

       " ('BA', 'NCLH', 0.0009205671356514296),\n",

       " ('BA', 'CCL', 0.0009422106011086133),\n",

       " ('AAPL', 'NEE', 0.0010378636587145538),\n",

       " ('PCG', 'V', 0.001212435522082543),\n",

       " ('PCG', 'VZ', 0.0013732981427975774),\n",

       " ('PCG', 'WMT', 0.0014712001505169609),\n",

       " ('PARA', 'LUV', 0.0017304572646444853),\n",

       " ('BSX', 'USB', 0.0018044000202292801),\n",

       " ('VTRS', 'WMT', 0.0020212525718855223),\n",

       " ('BSX', 'WFC', 0.0020906119278352917),\n",

       " ('PLTR', 'PYPL', 0.002127170515512428),\n",

       " ('PCG', 'PG', 0.00214947511666389),\n",

       " ('AMCR', 'JNJ', 0.0021987027342723776),\n",

       " ('NCLH', 'UAL', 0.002349387176779187),\n",

       " ('KDP', 'ON', 0.0024530309121871536),\n",

       " ('DVN', 'DLTR', 0.0024550663482402037),\n",

       " ('V', 'WMT', 0.002646110511877865),\n",

       " ('PCG', 'CRM', 0.0027089848513459254),\n",

       " ('DG', 'VTRS', 0.0029242253311637647),\n",

       " ('DOC', 'USB', 0.0029692543209662086),\n",

       " ('PCG', 'VST', 0.003368309946218742),\n",

       " ('CSX', 'TSLA', 0.003434728615620198),\n",

       " ('BSX', 'KEY', 0.003476786054866314),\n",

       " ('APA', 'MRO', 0.0037492319824739906),\n",

       " ('PCG', 'TXN', 0.003782307945775091),\n",

       " ('PLTR', 'DIS', 0.003822171957289717),\n",

       " ('BSX', 'KMI', 0.003963776308564702),\n",

       " ('BSX', 'RTX', 0.003994265387705735),\n",

       " ('PFE', 'WMB', 0.004045087164737347),\n",

       " ('BSX', 'HBAN', 0.004047741832033179),\n",

       " ('CNC', 'PLTR', 0.0043719770744707715),\n",

       " ('PCG', 'QCOM', 0.004382328088811029),\n",

       " ('JNJ', 'KDP', 0.004501789684065076),\n",

       " ('PCG', 'DIS', 0.0047036385819498195),\n",

       " ('BSX', 'HPE', 0.004801374909868441),\n",

       " ('DOC', 'TFC', 0.004830480041435871),\n",

       " ('PCG', 'TSLA', 0.004833256545903594),\n",

       " ('PCG', 'PM', 0.004851540390087294),\n",

       " ('MCHP', 'TXN', 0.00486592084166392),\n",

       " ('PCG', 'SLB', 0.005062857457053526),\n",

       " ('BSX', 'TFC', 0.005109616485315453),\n",

       " ('PCG', 'TFC', 0.0052605369933600805),\n",

       " ('DLTR', 'WMB', 0.005270403744137299),\n",

       " ('BSX', 'DOC', 0.005450038806840798),\n",

       " ('PCG', 'USB', 0.0057420172052086264),\n",

       " ('VTRS', 'V', 0.005742719011472134),\n",

       " ('CVS', 'ON', 0.005779585193773247),\n",

       " ('PCG', 'SBUX', 0.005929857958608009),\n",

       " ('PCG', 'WMB', 0.005979030335958589),\n",

       " ('PCG', 'RF', 0.005990876423733023),\n",

       " ('PCG', 'RTX', 0.006059329198603657),\n",

       " ('PCG', 'LUV', 0.006283662501094363),\n",

       " ('BKR', 'EXC', 0.006524990931252383),\n",

       " ('HPE', 'WFC', 0.006540166419367402),\n",

       " ('PCG', 'UAL', 0.006620242893809606),\n",

       " ('WBA', 'WBD', 0.006638663705346559),\n",

       " ('PCG', 'WBD', 0.006664498422950791),\n",

       " ('PCG', 'WFC', 0.0067963892762375544),\n",

       " ('AMCR', 'KDP', 0.0068725626201960955),\n",

       " ('BSX', 'ORCL', 0.00737944231510171),\n",

       " ('CSX', 'MS', 0.007408212909773512),\n",

       " ('CSX', 'MCHP', 0.0075323317188804835),\n",

       " ('AMCR', 'AVGO', 0.007535817684965744),\n",

       " ('MRK', 'SMCI', 0.007550028528063928),\n",

       " ('ABBV', 'CNC', 0.007582211298650648),\n",

       " ('MS', 'ORCL', 0.007654393486328409),\n",

       " ('PARA', 'UBER', 0.008020366675787932),\n",

       " ('GOOG', 'ORCL', 0.008084180584961232),\n",

       " ('BSX', 'JPM', 0.008165454149068779),\n",

       " ('GOOGL', 'ORCL', 0.008485386802318431),\n",

       " ('BSX', 'RF', 0.008658638873348602),\n",

       " ('NEE', 'VTRS', 0.008750694653854281),\n",

       " ('BSX', 'CSCO', 0.00889216283481188),\n",

       " ('BSX', 'PM', 0.009304721301560409),\n",

       " ('AVGO', 'CSX', 0.009680852669877284),\n",

       " ('JNJ', 'PM', 0.009748401353638868),\n",

       " ('GOOG', 'DELL', 0.010045278294086303),\n",

       " ('LRCX', 'MCHP', 0.01012368859228362),\n",

       " ('GOOGL', 'DELL', 0.01028351220218342),\n",

       " ('MCHP', 'TSLA', 0.010286524184033568),\n",

       " ('AVGO', 'FCX', 0.010451953439383245),\n",

       " ('AMCR', 'PM', 0.01056981534591003),\n",

       " ('APH', 'MS', 0.010892931652573105),\n",

       " ('HPQ', 'PM', 0.010903997502125692),\n",

       " ('AMCR', 'CSX', 0.011025263459537516),\n",

       " ('AMAT', 'ORCL', 0.011063136100694393),\n",

       " ('QCOM', 'TSLA', 0.011120990538846996),\n",

       " ('PEP', 'VTRS', 0.011189452650767494),\n",

       " ('MO', 'HPQ', 0.011412072273651269),\n",

       " ('PCG', 'SMCI', 0.011645425275637911),\n",

       " ('AMCR', 'MNST', 0.011704919555837872),\n",

       " ('CNC', 'CVS', 0.011756300639655824),\n",

       " ('AVGO', 'HPQ', 0.011923898436336847),\n",

       " ('MO', 'BKR', 0.011988604303176513),\n",

       " ('EW', 'NVDA', 0.012082277470969195),\n",

       " ('BA', 'UAL', 0.01233213605925611),\n",

       " ('CNP', 'PLTR', 0.012452912528029752),\n",

       " ('MCHP', 'ORCL', 0.012498554221670701),\n",

       " ('AMCR', 'PLTR', 0.012531951451011773),\n",

       " ('BSX', 'HST', 0.012575758053923957),\n",

       " ('CVS', 'KDP', 0.012962256328783374),\n",

       " ('PCG', 'WBA', 0.013021212847118097),\n",

       " ('CMCSA', 'META', 0.013069632125944914),\n",

       " ('CNP', 'HST', 0.013285187357381342),\n",

       " ('CNP', 'SLB', 0.013319739760492187),\n",

       " ('AVGO', 'PM', 0.013365346175038992),\n",

       " ('PG', 'VTRS', 0.013405850673285367),\n",

       " ('NEE', 'WMT', 0.013419121972149029),\n",

       " ('CVX', 'DLTR', 0.013450649450511928),\n",

       " ('SCHW', 'PM', 0.013798980115522642),\n",

       " ('KMI', 'RTX', 0.014096909794689848),\n",

       " ('PCG', 'VTRS', 0.01410754920759174),\n",

       " ('AMCR', 'MDLZ', 0.014134704511626451),\n",

       " ('CVS', 'PEP', 0.014585789134619716),\n",

       " ('WBA', 'DIS', 0.014633472589676432),\n",

       " ('KHC', 'MS', 0.014653000737802907),\n",

       " ('BSX', 'MDLZ', 0.014863098785014439),\n",

       " ('BKR', 'HAL', 0.014960417159420689),\n",

       " ('KO', 'CVS', 0.015294266183703881),\n",

       " ('KHC', 'TXN', 0.015540460425314389),\n",

       " ('LVS', 'PFE', 0.015663773476997996),\n",

       " ('BSX', 'C', 0.015676818013855977),\n",

       " ('F', 'KEY', 0.015778070228334364),\n",

       " ('UBER', 'DIS', 0.016108005817594945),\n",

       " ('JNJ', 'VTRS', 0.016116854211655787),\n",

       " ('APA', 'XOM', 0.016152122687216462),\n",

       " ('PLTR', 'WMB', 0.016269188205380973),\n",

       " ('CVX', 'PLTR', 0.01652097064641334),\n",

       " ('PM', 'RF', 0.016720610272509855),\n",

       " ('INTC', 'VZ', 0.0170855473311572),\n",

       " ('AVGO', 'KDP', 0.017196882090597655),\n",

       " ('NEE', 'QCOM', 0.01736387703556191),\n",

       " ('PCG', 'UBER', 0.017377369531679312),\n",

       " ('BAC', 'F', 0.01770007067521432),\n",

       " ('BSX', 'TXN', 0.01782204626515722),\n",

       " ('CNC', 'PEP', 0.017959649298936235),\n",

       " ('BSX', 'SBUX', 0.018031116083371105),\n",

       " ('AVGO', 'CVS', 0.018031533509171766),\n",

       " ('MDLZ', 'PM', 0.01813218342151895),\n",

       " ('MCHP', 'MS', 0.01832891883146878),\n",

       " ('KHC', 'LRCX', 0.018439774389834015),\n",

       " ('CMCSA', 'MDT', 0.01864841967641792),\n",

       " ('AMCR', 'TXN', 0.018694298976508723),\n",

       " ('BSX', 'F', 0.018790131552959596),\n",

       " ('SCHW', 'RF', 0.018998314607076988),\n",

       " ('KHC', 'MCHP', 0.01929014386666868),\n",

       " ('AVGO', 'JNJ', 0.01941572152843461),\n",

       " ('BSX', 'PEP', 0.019681239939479525),\n",

       " ('DG', 'NEE', 0.019982467920113878)]"

      ]

     },

     "execution_count": 31,

     "metadata": {},

     "output_type": "execute_result"

    }

   ],

   "source": [

    "pairs_data_2"

   ]

  },

  {

   "cell_type": "code",

   "execution_count": 39,

   "id": "35c974cf-6498-47aa-afde-b8d95fc83f2e",

   "metadata": {},

   "outputs": [

    {

     "name": "stdout",

     "output_type": "stream",

     "text": [

      "The pair: PCG, WMT are validated with p-value = 0.0187\n",

      "The pair: PCG, PM are validated with p-value = 0.0271\n",

      "The pair: DLTR, WMB are validated with p-value = 0.0496\n",

      "The pair: PCG, WMB are validated with p-value = 0.0245\n",

      "The pair: AMCR, KDP are validated with p-value = 0.0153\n",

      "The pair: MRK, SMCI are validated with p-value = 0.0155\n",

      "The pair: PARA, UBER are validated with p-value = 0.0487\n",

      "The pair: BSX, JPM are validated with p-value = 0.0137\n",

      "The pair: GOOG, DELL are validated with p-value = 0.0326\n",

      "The pair: GOOGL, DELL are validated with p-value = 0.0332\n",

      "The pair: CNP, SLB are validated with p-value = 0.0336\n",

      "The pair: F, KEY are validated with p-value = 0.0073\n",

      "\n",

      "Validated Pairs in Ascending Order of p-value:\n",

      "The pair: F, KEY with p-value = 0.0073\n",

      "The pair: BSX, JPM with p-value = 0.0137\n",

      "The pair: AMCR, KDP with p-value = 0.0153\n",

      "The pair: MRK, SMCI with p-value = 0.0155\n",

      "The pair: PCG, WMT with p-value = 0.0187\n",

      "The pair: PCG, WMB with p-value = 0.0245\n",

      "The pair: PCG, PM with p-value = 0.0271\n",

      "The pair: GOOG, DELL with p-value = 0.0326\n",

      "The pair: GOOGL, DELL with p-value = 0.0332\n",

      "The pair: CNP, SLB with p-value = 0.0336\n",

      "The pair: PARA, UBER with p-value = 0.0487\n",

      "The pair: DLTR, WMB with p-value = 0.0496\n"

     ]

    }

   ],

   "source": [

    "validated_pairs = []\n",

    "\n",

    "for tup in pairs_data_2:\n",

    "    try:\n",

    "        ticker_1 = yf.Ticker(tup[0])\n",

    "        ticker_2 = yf.Ticker(tup[1])\n",

    "        data_1 = ticker_1.history(start=\"2022-11-16\", end=\"2024-11-16\")[\"Close\"]\n",

    "        data_2 = ticker_2.history(start=\"2022-11-16\", end=\"2024-11-16\")[\"Close\"]\n",

    "\n",

    "        # Perform the cointegration test\n",

    "        coint_t, p_value, _ = coint(data_1, data_2)\n",

    "\n",

    "        # If p-value is below the threshold, add to validated pairs list and print\n",

    "        if p_value < 0.05:\n",

    "            print(f\"The pair: {tup[0]}, {tup[1]} are validated with p-value = {p_value:.4f}\")\n",

    "            validated_pairs.append((tup[0], tup[1], p_value))\n",

    "\n",

    "    except Exception as e:\n",

    "        print(f\"Error processing pair {tup[0]}, {tup[1]}: {e}\")\n",

    "\n",

    "# Sort the validated pairs by p-value in ascending order\n",

    "validated_pairs_sorted = sorted(validated_pairs, key=lambda x: x[2])\n",

    "\n",

    "# Optionally, print the sorted list of validated pairs\n",

    "print(\"\\nValidated Pairs in Ascending Order of p-value:\")\n",

    "for pair in validated_pairs_sorted:\n",

    "    print(f\"The pair: {pair[0]}, {pair[1]} with p-value = {pair[2]:.4f}\")\n"

   ]

  },

  {

   "cell_type": "code",

   "execution_count": 41,

   "id": "c9f28850-fb57-421c-862d-a5bcad738d70",

   "metadata": {},

   "outputs": [

    {

     "data": {

      "text/plain": [

       "[('F', 'KEY', 0.007327074933705752),\n",

       " ('BSX', 'JPM', 0.01370488079528191),\n",

       " ('AMCR', 'KDP', 0.015296240057055842),\n",

       " ('MRK', 'SMCI', 0.015514296239371563),\n",

       " ('PCG', 'WMT', 0.018724538208109123),\n",

       " ('PCG', 'WMB', 0.024505125968078544),\n",

       " ('PCG', 'PM', 0.02709581643216537),\n",

       " ('GOOG', 'DELL', 0.03257280256268849),\n",

       " ('GOOGL', 'DELL', 0.033177522010561004),\n",

       " ('CNP', 'SLB', 0.03361669830949882),\n",

       " ('PARA', 'UBER', 0.04869075391431782),\n",

       " ('DLTR', 'WMB', 0.04961136995168697)]"

      ]

     },

     "execution_count": 41,

     "metadata": {},

     "output_type": "execute_result"

    }

   ],

   "source": [

    "validated_pairs_sorted"

   ]

  },

  {

   "cell_type": "code",

   "execution_count": 47,

   "id": "02cf7975-bb98-4ffa-a479-b400f8ede2bc",

   "metadata": {},

   "outputs": [

    {

     "name": "stdout",

     "output_type": "stream",

     "text": [

      "Linear regression for pair: F and KEY\n",

      "                            OLS Regression Results                            \n",

      "==============================================================================\n",

      "Dep. Variable:                      y   R-squared:                       0.822\n",

      "Model:                            OLS   Adj. R-squared:                  0.822\n",

      "Method:                 Least Squares   F-statistic:                     3486.\n",

      "Date:                Sat, 16 Nov 2024   Prob (F-statistic):          9.10e-285\n",

      "Time:                        17:35:43   Log-Likelihood:                -1428.3\n",

      "No. Observations:                 755   AIC:                             2861.\n",

      "Df Residuals:                     753   BIC:                             2870.\n",

      "Df Model:                           1                                         \n",

      "Covariance Type:            nonrobust                                         \n",

      "==============================================================================\n",

      "                 coef    std err          t      P>|t|      [0.025      0.975]\n",

      "------------------------------------------------------------------------------\n",

      "const          6.2645      0.166     37.643      0.000       5.938       6.591\n",

      "x1             0.9445      0.016     59.041      0.000       0.913       0.976\n",

      "==============================================================================\n",

      "Omnibus:                       52.803   Durbin-Watson:                   0.046\n",

      "Prob(Omnibus):                  0.000   Jarque-Bera (JB):               30.800\n",

      "Skew:                           0.349   Prob(JB):                     2.05e-07\n",

      "Kurtosis:                       2.298   Cond. No.                         29.8\n",

      "==============================================================================\n",

      "\n",

      "Notes:\n",

      "[1] Standard Errors assume that the covariance matrix of the errors is correctly specified.\n",

      "Slope (b) of the regression: 0.9445472750123703\n"

     ]

    },

    {

     "data": {

      "image/png": "[encoded data removed]",

      "text/plain": [

       "<Figure size 640x480 with 1 Axes>"

      ]

     },

     "metadata": {},

     "output_type": "display_data"

    },

    {

     "name": "stdout",

     "output_type": "stream",

     "text": [

      "Linear regression for pair: BSX and JPM\n",

      "                            OLS Regression Results                            \n",

      "==============================================================================\n",

      "Dep. Variable:                      y   R-squared:                       0.444\n",

      "Model:                            OLS   Adj. R-squared:                  0.443\n",

      "Method:                 Least Squares   F-statistic:                     601.9\n",

      "Date:                Sat, 16 Nov 2024   Prob (F-statistic):           3.90e-98\n",

      "Time:                        17:35:44   Log-Likelihood:                -3215.9\n",

      "No. Observations:                 755   AIC:                             6436.\n",

      "Df Residuals:                     753   BIC:                             6445.\n",

      "Df Model:                           1                                         \n",

      "Covariance Type:            nonrobust                                         \n",

      "==============================================================================\n",

      "                 coef    std err          t      P>|t|      [0.025      0.975]\n",

      "------------------------------------------------------------------------------\n",

      "const        -53.8119      7.039     -7.645      0.000     -67.630     -39.994\n",

      "x1             4.2772      0.174     24.533      0.000       3.935       4.619\n",

      "==============================================================================\n",

      "Omnibus:                      234.198   Durbin-Watson:                   0.026\n",

      "Prob(Omnibus):                  0.000   Jarque-Bera (JB):               37.732\n",

      "Skew:                           0.110   Prob(JB):                     6.41e-09\n",

      "Kurtosis:                       1.927   Cond. No.                         456.\n",

      "==============================================================================\n",

      "\n",

      "Notes:\n",

      "[1] Standard Errors assume that the covariance matrix of the errors is correctly specified.\n",

      "Slope (b) of the regression: 4.277212176514214\n"

     ]

    },

    {

     "data": {

      "image/png": "[encoded data removed]",

      "text/plain": [

       "<Figure size 640x480 with 1 Axes>"

      ]

     },

     "metadata": {},

     "output_type": "display_data"

    },

    {

     "name": "stdout",

     "output_type": "stream",

     "text": [

      "Linear regression for pair: AMCR and KDP\n",

      "                            OLS Regression Results                            \n",

      "==============================================================================\n",

      "Dep. Variable:                      y   R-squared:                       0.746\n",

      "Model:                            OLS   Adj. R-squared:                  0.745\n",

      "Method:                 Least Squares   F-statistic:                     2208.\n",

      "Date:                Sat, 16 Nov 2024   Prob (F-statistic):          4.17e-226\n",

      "Time:                        17:35:44   Log-Likelihood:                -1653.0\n",

      "No. Observations:                 755   AIC:                             3310.\n",

      "Df Residuals:                     753   BIC:                             3319.\n",

      "Df Model:                           1                                         \n",

      "Covariance Type:            nonrobust                                         \n",

      "==============================================================================\n",

      "                 coef    std err          t      P>|t|      [0.025      0.975]\n",

      "------------------------------------------------------------------------------\n",

      "const          0.5142      0.644      0.798      0.425      -0.750       1.779\n",

      "x1             3.0925      0.066     46.994      0.000       2.963       3.222\n",

      "==============================================================================\n",

      "Omnibus:                       13.673   Durbin-Watson:                   0.059\n",

      "Prob(Omnibus):                  0.001   Jarque-Bera (JB):                8.096\n",

      "Skew:                           0.049   Prob(JB):                       0.0175\n",

      "Kurtosis:                       2.502   Cond. No.                         80.9\n",

      "==============================================================================\n",

      "\n",

      "Notes:\n",

      "[1] Standard Errors assume that the covariance matrix of the errors is correctly specified.\n",

      "Slope (b) of the regression: 3.0924680082064784\n"

     ]

    },

    {

     "data": {

      "image/png": "[encoded data removed]",

      "text/plain": [

       "<Figure size 640x480 with 1 Axes>"

      ]

     },

     "metadata": {},

     "output_type": "display_data"

    },

    {

     "name": "stdout",

     "output_type": "stream",

     "text": [

      "Linear regression for pair: MRK and SMCI\n",

      "                            OLS Regression Results                            \n",

      "==============================================================================\n",

      "Dep. Variable:                      y   R-squared:                       0.595\n",

      "Model:                            OLS   Adj. R-squared:                  0.594\n",

      "Method:                 Least Squares   F-statistic:                     1104.\n",

      "Date:                Sat, 16 Nov 2024   Prob (F-statistic):          9.63e-150\n",

      "Time:                        17:35:44   Log-Likelihood:                -879.38\n",

      "No. Observations:                 755   AIC:                             1763.\n",

      "Df Residuals:                     753   BIC:                             1772.\n",

      "Df Model:                           1                                         \n",

      "Covariance Type:            nonrobust                                         \n",

      "==============================================================================\n",

      "                 coef    std err          t      P>|t|      [0.025      0.975]\n",

      "------------------------------------------------------------------------------\n",

      "const         -5.2327      0.270    -19.379      0.000      -5.763      -4.703\n",

      "x1             0.1234      0.004     33.226      0.000       0.116       0.131\n",

      "==============================================================================\n",

      "Omnibus:                        1.774   Durbin-Watson:                   0.052\n",

      "Prob(Omnibus):                  0.412   Jarque-Bera (JB):                1.707\n",

      "Skew:                          -0.048   Prob(JB):                        0.426\n",

      "Kurtosis:                       2.788   Cond. No.                         695.\n",

      "==============================================================================\n",

      "\n",

      "Notes:\n",

      "[1] Standard Errors assume that the covariance matrix of the errors is correctly specified.\n",

      "Slope (b) of the regression: 0.12336179063224471\n"

     ]

    },

    {

     "data": {

      "image/png": "[encoded data removed]",

      "text/plain": [

       "<Figure size 640x480 with 1 Axes>"

      ]

     },

     "metadata": {},

     "output_type": "display_data"

    },

    {

     "name": "stdout",

     "output_type": "stream",

     "text": [

      "Linear regression for pair: PCG and WMT\n",

      "                            OLS Regression Results                            \n",

      "==============================================================================\n",

      "Dep. Variable:                      y   R-squared:                       0.000\n",

      "Model:                            OLS   Adj. R-squared:                 -0.001\n",

      "Method:                 Least Squares   F-statistic:                    0.2927\n",

      "Date:                Sat, 16 Nov 2024   Prob (F-statistic):              0.589\n",

      "Time:                        17:35:45   Log-Likelihood:                -2070.2\n",

      "No. Observations:                 755   AIC:                             4144.\n",

      "Df Residuals:                     753   BIC:                             4154.\n",

      "Df Model:                           1                                         \n",

      "Covariance Type:            nonrobust                                         \n",

      "==============================================================================\n",

      "                 coef    std err          t      P>|t|      [0.025      0.975]\n",

      "------------------------------------------------------------------------------\n",

      "const         42.4397      0.879     48.305      0.000      40.715      44.164\n",

      "x1             0.0416      0.077      0.541      0.589      -0.109       0.193\n",

      "==============================================================================\n",

      "Omnibus:                       45.668   Durbin-Watson:                   0.031\n",

      "Prob(Omnibus):                  0.000   Jarque-Bera (JB):               39.973\n",

      "Skew:                          -0.492   Prob(JB):                     2.09e-09\n",

      "Kurtosis:                       2.451   Cond. No.                         73.8\n",

      "==============================================================================\n",

      "\n",

      "Notes:\n",

      "[1] Standard Errors assume that the covariance matrix of the errors is correctly specified.\n",

      "Slope (b) of the regression: 0.0416436635613049\n"

     ]

    },

    {

     "data": {

      "image/png": "[encoded data removed]",

      "text/plain": [

       "<Figure size 640x480 with 1 Axes>"

      ]

     },

     "metadata": {},

     "output_type": "display_data"

    },

    {

     "name": "stdout",

     "output_type": "stream",

     "text": [

      "Linear regression for pair: PCG and WMB\n",

      "                            OLS Regression Results                            \n",

      "==============================================================================\n",

      "Dep. Variable:                      y   R-squared:                       0.080\n",

      "Model:                            OLS   Adj. R-squared:                  0.079\n",

      "Method:                 Least Squares   F-statistic:                     65.52\n",

      "Date:                Sat, 16 Nov 2024   Prob (F-statistic):           2.30e-15\n",

      "Time:                        17:35:45   Log-Likelihood:                -2356.4\n",

      "No. Observations:                 755   AIC:                             4717.\n",

      "Df Residuals:                     753   BIC:                             4726.\n",

      "Df Model:                           1                                         \n",

      "Covariance Type:            nonrobust                                         \n",

      "==============================================================================\n",

      "                 coef    std err          t      P>|t|      [0.025      0.975]\n",

      "------------------------------------------------------------------------------\n",

      "const         11.0338      1.283      8.597      0.000       8.514      13.553\n",

      "x1             0.9102      0.112      8.095      0.000       0.689       1.131\n",

      "==============================================================================\n",

      "Omnibus:                       83.419   Durbin-Watson:                   0.007\n",

      "Prob(Omnibus):                  0.000   Jarque-Bera (JB):               24.086\n",

      "Skew:                           0.055   Prob(JB):                     5.89e-06\n",

      "Kurtosis:                       2.132   Cond. No.                         73.8\n",

      "==============================================================================\n",

      "\n",

      "Notes:\n",

      "[1] Standard Errors assume that the covariance matrix of the errors is correctly specified.\n",

      "Slope (b) of the regression: 0.9101504185891046\n"

     ]

    },

    {

     "data": {

      "image/png": "[encoded data removed]",

      "text/plain": [

       "<Figure size 640x480 with 1 Axes>"

      ]

     },

     "metadata": {},

     "output_type": "display_data"

    },

    {

     "name": "stdout",

     "output_type": "stream",

     "text": [

      "Linear regression for pair: PCG and PM\n",

      "                            OLS Regression Results                            \n",

      "==============================================================================\n",

      "Dep. Variable:                      y   R-squared:                       0.028\n",

      "Model:                            OLS   Adj. R-squared:                  0.027\n",

      "Method:                 Least Squares   F-statistic:                     21.84\n",

      "Date:                Sat, 16 Nov 2024   Prob (F-statistic):           3.52e-06\n",

      "Time:                        17:35:45   Log-Likelihood:                -2899.1\n",

      "No. Observations:                 755   AIC:                             5802.\n",

      "Df Residuals:                     753   BIC:                             5811.\n",

      "Df Model:                           1                                         \n",

      "Covariance Type:            nonrobust                                         \n",

      "==============================================================================\n",

      "                 coef    std err          t      P>|t|      [0.025      0.975]\n",

      "------------------------------------------------------------------------------\n",

      "const         62.3006      2.634     23.656      0.000      57.131      67.471\n",

      "x1             1.0781      0.231      4.673      0.000       0.625       1.531\n",

      "==============================================================================\n",

      "Omnibus:                     3263.878   Durbin-Watson:                   0.011\n",

      "Prob(Omnibus):                  0.000   Jarque-Bera (JB):               58.010\n",

      "Skew:                          -0.102   Prob(JB):                     2.53e-13\n",

      "Kurtosis:                       1.657   Cond. No.                         73.8\n",

      "==============================================================================\n",

      "\n",

      "Notes:\n",

      "[1] Standard Errors assume that the covariance matrix of the errors is correctly specified.\n",

      "Slope (b) of the regression: 1.0781292260614443\n"

     ]

    },

    {

     "data": {

      "image/png": "[encoded data removed]",

      "text/plain": [

       "<Figure size 640x480 with 1 Axes>"

      ]

     },

     "metadata": {},

     "output_type": "display_data"

    },

    {

     "name": "stdout",

     "output_type": "stream",

     "text": [

      "Linear regression for pair: GOOG and DELL\n",

      "                            OLS Regression Results                            \n",

      "==============================================================================\n",

      "Dep. Variable:                      y   R-squared:                       0.912\n",

      "Model:                            OLS   Adj. R-squared:                  0.912\n",

      "Method:                 Least Squares   F-statistic:                     7850.\n",

      "Date:                Sat, 16 Nov 2024   Prob (F-statistic):               0.00\n",

      "Time:                        17:35:46   Log-Likelihood:                -1956.1\n",

      "No. Observations:                 755   AIC:                             3916.\n",

      "Df Residuals:                     753   BIC:                             3926.\n",

      "Df Model:                           1                                         \n",

      "Covariance Type:            nonrobust                                         \n",

      "==============================================================================\n",

      "                 coef    std err          t      P>|t|      [0.025      0.975]\n",

      "------------------------------------------------------------------------------\n",

      "const         -1.1189      0.455     -2.457      0.014      -2.013      -0.225\n",

      "x1             0.3764      0.004     88.601      0.000       0.368       0.385\n",

      "==============================================================================\n",

      "Omnibus:                       59.879   Durbin-Watson:                   0.067\n",

      "Prob(Omnibus):                  0.000   Jarque-Bera (JB):               20.530\n",

      "Skew:                           0.069   Prob(JB):                     3.48e-05\n",

      "Kurtosis:                       2.204   Cond. No.                         415.\n",

      "==============================================================================\n",

      "\n",

      "Notes:\n",

      "[1] Standard Errors assume that the covariance matrix of the errors is correctly specified.\n",

      "Slope (b) of the regression: 0.37641796104034575\n"

     ]

    },

    {

     "data": {

      "image/png": "[encoded data removed]",

      "text/plain": [

       "<Figure size 640x480 with 1 Axes>"

      ]

     },

     "metadata": {},

     "output_type": "display_data"

    },

    {

     "name": "stdout",

     "output_type": "stream",

     "text": [

      "Linear regression for pair: GOOGL and DELL\n",

      "                            OLS Regression Results                            \n",

      "==============================================================================\n",

      "Dep. Variable:                      y   R-squared:                       0.912\n",

      "Model:                            OLS   Adj. R-squared:                  0.912\n",

      "Method:                 Least Squares   F-statistic:                     7785.\n",

      "Date:                Sat, 16 Nov 2024   Prob (F-statistic):               0.00\n",

      "Time:                        17:35:46   Log-Likelihood:                -1959.0\n",

      "No. Observations:                 755   AIC:                             3922.\n",

      "Df Residuals:                     753   BIC:                             3931.\n",

      "Df Model:                           1                                         \n",

      "Covariance Type:            nonrobust                                         \n",

      "==============================================================================\n",

      "                 coef    std err          t      P>|t|      [0.025      0.975]\n",

      "------------------------------------------------------------------------------\n",

      "const         -1.3771      0.460     -2.994      0.003      -2.280      -0.474\n",

      "x1             0.3811      0.004     88.234      0.000       0.373       0.390\n",

      "==============================================================================\n",

      "Omnibus:                       76.458   Durbin-Watson:                   0.067\n",

      "Prob(Omnibus):                  0.000   Jarque-Bera (JB):               23.192\n",

      "Skew:                           0.064   Prob(JB):                     9.20e-06\n",

      "Kurtosis:                       2.151   Cond. No.                         415.\n",

      "==============================================================================\n",

      "\n",

      "Notes:\n",

      "[1] Standard Errors assume that the covariance matrix of the errors is correctly specified.\n",

      "Slope (b) of the regression: 0.3811450516215276\n"

     ]

    },

    {

     "data": {

      "image/png": "[encoded data removed]",

      "text/plain": [

       "<Figure size 640x480 with 1 Axes>"

      ]

     },

     "metadata": {},

     "output_type": "display_data"

    },

    {

     "name": "stdout",

     "output_type": "stream",

     "text": [

      "Linear regression for pair: CNP and SLB\n",

      "                            OLS Regression Results                            \n",

      "==============================================================================\n",

      "Dep. Variable:                      y   R-squared:                       0.740\n",

      "Model:                            OLS   Adj. R-squared:                  0.740\n",

      "Method:                 Least Squares   F-statistic:                     2149.\n",

      "Date:                Sat, 16 Nov 2024   Prob (F-statistic):          8.94e-223\n",

      "Time:                        17:35:46   Log-Likelihood:                -2226.9\n",

      "No. Observations:                 755   AIC:                             4458.\n",

      "Df Residuals:                     753   BIC:                             4467.\n",

      "Df Model:                           1                                         \n",

      "Covariance Type:            nonrobust                                         \n",

      "==============================================================================\n",

      "                 coef    std err          t      P>|t|      [0.025      0.975]\n",

      "------------------------------------------------------------------------------\n",

      "const        -11.1704      0.866    -12.894      0.000     -12.871      -9.470\n",

      "x1             1.7364      0.037     46.354      0.000       1.663       1.810\n",

      "==============================================================================\n",

      "Omnibus:                       82.746   Durbin-Watson:                   0.044\n",

      "Prob(Omnibus):                  0.000   Jarque-Bera (JB):              137.889\n",

      "Skew:                           0.726   Prob(JB):                     1.14e-30\n",

      "Kurtosis:                       4.509   Cond. No.                         119.\n",

      "==============================================================================\n",

      "\n",

      "Notes:\n",

      "[1] Standard Errors assume that the covariance matrix of the errors is correctly specified.\n",

      "Slope (b) of the regression: 1.7364044833134955\n"

     ]

    },

    {

     "data": {

      "image/png": "[encoded data removed]",

      "text/plain": [

       "<Figure size 640x480 with 1 Axes>"

      ]

     },

     "metadata": {},

     "output_type": "display_data"

    },

    {

     "name": "stdout",

     "output_type": "stream",

     "text": [

      "Linear regression for pair: PARA and UBER\n",

      "                            OLS Regression Results                            \n",

      "==============================================================================\n",

      "Dep. Variable:                      y   R-squared:                       0.500\n",

      "Model:                            OLS   Adj. R-squared:                  0.499\n",

      "Method:                 Least Squares   F-statistic:                     752.3\n",

      "Date:                Sat, 16 Nov 2024   Prob (F-statistic):          2.26e-115\n",

      "Time:                        17:35:46   Log-Likelihood:                -2569.0\n",

      "No. Observations:                 755   AIC:                             5142.\n",

      "Df Residuals:                     753   BIC:                             5151.\n",

      "Df Model:                           1                                         \n",

      "Covariance Type:            nonrobust                                         \n",

      "==============================================================================\n",

      "                 coef    std err          t      P>|t|      [0.025      0.975]\n",

      "------------------------------------------------------------------------------\n",

      "const         18.2720      0.764     23.905      0.000      16.772      19.773\n",

      "x1             0.6463      0.024     27.428      0.000       0.600       0.693\n",

      "==============================================================================\n",

      "Omnibus:                        0.970   Durbin-Watson:                   0.042\n",

      "Prob(Omnibus):                  0.616   Jarque-Bera (JB):                1.031\n",

      "Skew:                          -0.037   Prob(JB):                        0.597\n",

      "Kurtosis:                       2.835   Cond. No.                         93.7\n",

      "==============================================================================\n",

      "\n",

      "Notes:\n",

      "[1] Standard Errors assume that the covariance matrix of the errors is correctly specified.\n",

      "Slope (b) of the regression: 0.6463193123748852\n"

     ]

    },

    {

     "data": {

      "image/png": "[encoded data removed]",

      "text/plain": [

       "<Figure size 640x480 with 1 Axes>"

      ]

     },

     "metadata": {},

     "output_type": "display_data"

    },

    {

     "name": "stdout",

     "output_type": "stream",

     "text": [

      "Linear regression for pair: DLTR and WMB\n",

      "                            OLS Regression Results                            \n",

      "==============================================================================\n",

      "Dep. Variable:                      y   R-squared:                       0.806\n",

      "Model:                            OLS   Adj. R-squared:                  0.805\n",

      "Method:                 Least Squares   F-statistic:                     3120.\n",

      "Date:                Sat, 16 Nov 2024   Prob (F-statistic):          5.47e-270\n",

      "Time:                        17:35:47   Log-Likelihood:                -1769.6\n",

      "No. Observations:                 755   AIC:                             3543.\n",

      "Df Residuals:                     753   BIC:                             3553.\n",

      "Df Model:                           1                                         \n",

      "Covariance Type:            nonrobust                                         \n",

      "==============================================================================\n",

      "                 coef    std err          t      P>|t|      [0.025      0.975]\n",

      "------------------------------------------------------------------------------\n",

      "const         -0.0489      0.393     -0.124      0.901      -0.820       0.723\n",

      "x1             0.1862      0.003     55.854      0.000       0.180       0.193\n",

      "==============================================================================\n",

      "Omnibus:                       49.618   Durbin-Watson:                   0.060\n",

      "Prob(Omnibus):                  0.000   Jarque-Bera (JB):               58.544\n",

      "Skew:                           0.682   Prob(JB):                     1.94e-13\n",

      "Kurtosis:                       2.973   Cond. No.                         504.\n",

      "==============================================================================\n",

      "\n",

      "Notes:\n",

      "[1] Standard Errors assume that the covariance matrix of the errors is correctly specified.\n",

      "Slope (b) of the regression: 0.18623231780935662\n"

     ]

    },

    {

     "data": {

      "image/png": "[encoded data removed]",

      "text/plain": [

       "<Figure size 640x480 with 1 Axes>"

      ]

     },

     "metadata": {},

     "output_type": "display_data"

    }

   ],

   "source": [

    "# Iterate through the validated pairs to perform linear regression\n",

    "for tup in validated_pairs_sorted:\n",

    "    try:\n",

    "        # Fetch historical closing prices for the validated pair\n",

    "        ticker_1 = yf.Ticker(tup[0])\n",

    "        ticker_2 = yf.Ticker(tup[1])\n",

    "        x_1 = ticker_1.history(start=\"2019-11-16\", end=\"2022-11-16\")[\"Close\"]\n",

    "        x_2 = ticker_2.history(start=\"2019-11-16\", end=\"2022-11-16\")[\"Close\"]\n",

    "\n",

    "        # Drop NaN values to align both series\n",

    "        combined_data = pd.concat([x_1, x_2], axis=1).dropna()\n",

    "        x_1 = combined_data.iloc[:, 0]\n",

    "        x_2 = combined_data.iloc[:, 1]\n",

    "\n",

    "        # Ensure that x_1 and x_2 are numpy arrays\n",

    "        x_1 = np.array(x_1)\n",

    "        x_2 = np.array(x_2)\n",

    "\n",

    "        # Add a constant to x_1 for the intercept term\n",

    "        x_1_with_const = sm.add_constant(x_1)\n",

    "\n",

    "        # Perform linear regression\n",

    "        model = sm.OLS(x_2, x_1_with_const)\n",

    "        results = model.fit()\n",

    "\n",

    "        # Extract the slope (b) from the regression results\n",

    "        b = results.params[1]\n",

    "\n",

    "        # Print the summary of the regression and the value of b\n",

    "        print(f\"Linear regression for pair: {tup[0]} and {tup[1]}\")\n",

    "        print(results.summary())\n",

    "        print(f\"Slope (b) of the regression: {b}\")\n",

    "\n",

    "        # Plot the results\n",

    "        plt.scatter(x_1, x_2, color='blue', label=f'Data Points: {tup[0]} vs {tup[1]}')\n",

    "        plt.plot(x_1, results.predict(x_1_with_const), color='red', label='Regression Line')\n",

    "        plt.xlabel(f'{tup[0]} (Price)')\n",

    "        plt.ylabel(f'{tup[1]} (Price)')\n",

    "        plt.title(f'Linear Regression of Stock Prices: {tup[0]} vs {tup[1]}')\n",

    "        plt.legend()\n",

    "        plt.show()\n",

    "\n",

    "    except Exception as e:\n",

    "        print(f\"Error processing pair {tup[0]}, {tup[1]}: {e}\")\n"

   ]

  },

  {

   "cell_type": "code",

   "execution_count": null,

   "id": "dda75033-4b8a-4f4d-a144-81d73840710e",

   "metadata": {},

   "outputs": [],

   "source": []

  }

 ],

 "metadata": {

  "kernelspec": {

   "display_name": "Python 3 (ipykernel)",

   "language": "python",

   "name": "python3"

  },

  "language_info": {

   "codemirror_mode": {

    "name": "ipython",

    "version": 3

   },

   "file_extension": ".py",

   "mimetype": "text/x-python",

   "name": "python",

   "nbconvert_exporter": "python",

   "pygments_lexer": "ipython3",

   "version": "3.12.7"

  }

 },

 "nbformat": 4,

 "nbformat_minor": 5

}

